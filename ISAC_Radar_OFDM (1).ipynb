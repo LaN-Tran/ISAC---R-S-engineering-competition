{
  "nbformat": 4,
  "nbformat_minor": 0,
  "metadata": {
    "colab": {
      "provenance": [],
      "toc_visible": true
    },
    "kernelspec": {
      "name": "python3",
      "display_name": "Python 3"
    },
    "language_info": {
      "name": "python"
    }
  },
  "cells": [
    {
      "cell_type": "markdown",
      "source": [
        "#Libraries\n",
        "\n"
      ],
      "metadata": {
        "id": "fHsd1C8lub98"
      }
    },
    {
      "cell_type": "code",
      "source": [
        "import numpy as np\n",
        "import matplotlib.pyplot as plt\n",
        "import scipy.integrate as integrate"
      ],
      "metadata": {
        "id": "GTCKxRASkOTt"
      },
      "execution_count": null,
      "outputs": []
    },
    {
      "cell_type": "markdown",
      "source": [
        "#References\n",
        "\n",
        "[1] \"OFDM RadarAlgorithms in Mobile Communication Networks\", Martin Braun\n",
        "\n",
        "[2] \"Principles of Modern Radar\", M. A. Richards, Ed.\n",
        "\n",
        "[3] https://www.radartutorial.eu/01.basics/Range%20Resolution.en.html\n"
      ],
      "metadata": {
        "id": "tY8UsxOqbpmh"
      }
    },
    {
      "cell_type": "markdown",
      "source": [
        "#Constrains and requirements for radar and communication: subsystems of ISAC ([1] section 3.6.1)"
      ],
      "metadata": {
        "id": "xLVWyYA7SRD3"
      }
    },
    {
      "cell_type": "markdown",
      "source": [
        "##Short- or medium- Radar requirements"
      ],
      "metadata": {
        "id": "TRtQfz1icE8w"
      }
    },
    {
      "cell_type": "markdown",
      "source": [
        "###delta_d: range resolution, its relation to the minimum OFDM signal BW"
      ],
      "metadata": {
        "id": "91Sjb89_jgdt"
      }
    },
    {
      "cell_type": "code",
      "execution_count": null,
      "metadata": {
        "id": "L1bWV1c1SBAz"
      },
      "outputs": [],
      "source": [
        "# delta_d: range resolution, i.e 'the minimum distance two objects with the same relative velocity ... can still be distinguished'. 'relative velocity' = the doppler velocity\n",
        "#1 delta_d is inversely proportional to the bandwidth:\n",
        "## delta_d >= c0 / (2 * N * delta_f) ([2], [3])\n",
        "## <=> N * delta_f >= c0 / (2 * delta_d)\n",
        "# c0: speed of light\n",
        "# N: number of sub-carriers in OFDM signal\n",
        "# delta_f: sub-carrier spacing\n",
        "# N * delta_f = BW of the OFDM signal\n",
        "\n",
        "#2 Because: delta_d_min <= delta_d <= delta_d_max,\n",
        "# c0 / (2 * delta_d_min) >= c0 / (2 * delta_d) >= c0 / (2 * delta_d_max)\n",
        "# ?? (delta_d_max relates to the unambiguous detection range of the radar)\n",
        "\n",
        "# Combine #1 and #2, if the delta_d_max (i.e maximum tolerable resolution) is known,\n",
        "# the OFDM signal BW: N*delta_f >= c0 / (2 * delta_d_max).\n",
        "# Equivalently, the minimum OFDM signal BW is c0 / (2 * delta_d_max)"
      ]
    },
    {
      "cell_type": "markdown",
      "source": [
        "###delta_vrel: velocity resolution, and its relation with the minimum OFDM signal frame duration"
      ],
      "metadata": {
        "id": "Od7jj99kkvhu"
      }
    },
    {
      "cell_type": "code",
      "source": [
        "# delta_vrel: velocity resolution, i.e 'the minimum velocity two objects with the same range ... can still be distinguished'. 'relative velocity'\n",
        "# delta_vrel is inversely proportional to the frame duration (i.e M * T0):\n",
        "## delta_vrel >= c0 / (2 * M * T0 * fc)\n",
        "## <=> M * T0 >= c0 / (2 * delta_vrel * fc)\n",
        "# c0: speed of light\n",
        "# M: number of OFDM symbols in a OFDM signal\n",
        "# T0: total duration of an OFDM symbol = T + TG\n",
        "## T: duration of an OFDM symbol = 1/ delta_f\n",
        "## TG: duration of cyclic prefix (i.e guard-time)\n",
        "# fc: the center carrier's frequency\n",
        "# M * T0 = frame duration of the OFDM signal\n",
        "\n",
        "#4 Because: delta_vrel_min <= delta_vrel <= delta_vrel_max,\n",
        "# c0 / (2 * delta_vrel_min * fc) >= c0 / (2 * delta_vrel * fc) >= c0 / (2 * delta_vrel_max * fc)\n",
        "# ?? (delta_vrel_max relates to the unambiguous detection velocity of the radar)\n",
        "\n",
        "# Combine #3 and #4, if the delta_d_max (i.e maximum tolerable resolution) is known,\n",
        "# the OFDM signal BW: M * T0 >= c0 / (2 * delta_vrel_max * fc)\n",
        "# Equivalently, the minimum OFDM signal frame duration is c0 / (2 * delta_vrel_max * fc)"
      ],
      "metadata": {
        "id": "rOFkGFpRilaO"
      },
      "execution_count": null,
      "outputs": []
    },
    {
      "cell_type": "markdown",
      "source": [
        "###TG: OFDM symbol guard time, and its relation to d_max: the maximum detection range"
      ],
      "metadata": {
        "id": "3fzGEpmznIbs"
      }
    },
    {
      "cell_type": "code",
      "source": [
        "# TG: the OFDM symbol guard time. To preserve the orthogonality of the modulation symbols in time domain:\n",
        "# TG >= 2 * d_max / c0\n"
      ],
      "metadata": {
        "id": "Tw_QblctrJZ8"
      },
      "execution_count": null,
      "outputs": []
    },
    {
      "cell_type": "markdown",
      "source": [
        "###delta_f: sub-carrier spacing and its relation with vrel_max"
      ],
      "metadata": {
        "id": "KJLEsAL_nf1D"
      }
    },
    {
      "cell_type": "code",
      "source": [
        "# delta_f: the sub-carrier spacing. To mitigate the de-orthogonality in the frequency domain:\n",
        "# delta_f  >> 2 * vrel_max * fc / c0 (3.141)\n"
      ],
      "metadata": {
        "id": "OTHNfC15sX_D"
      },
      "execution_count": null,
      "outputs": []
    },
    {
      "cell_type": "markdown",
      "source": [
        "###(delta_f and d_max), and (T0 and vrel_max)"
      ],
      "metadata": {
        "id": "bcYFajgHnnOT"
      }
    },
    {
      "cell_type": "code",
      "source": [
        "# For relible radar operation:\n",
        "## d_max <= d_uamb\n",
        "## vrel_max <= vrel_unamb\n",
        "# Therefore, (see the [1] section 3.2.2 Unambiguous ranges)\n",
        "## delta_f <= c0 / (2 * d_max)\n",
        "## T0 <= c0 / (2 * vrel_max * fc)\n"
      ],
      "metadata": {
        "id": "5eLecgw3s4Jb"
      },
      "execution_count": null,
      "outputs": []
    },
    {
      "cell_type": "markdown",
      "source": [
        "##Communication Requirements\n",
        "\n",
        "References:\n",
        "\n",
        "[1] Doppler shifts, Doppler spread, doppler power spectrum: http://www.wirelesscommunication.nl/reference/chaptr03/fading/doppler.htm\n"
      ],
      "metadata": {
        "id": "V5GgGrpuSQIo"
      }
    },
    {
      "cell_type": "markdown",
      "source": [
        "###The maximum excess delay τe"
      ],
      "metadata": {
        "id": "-jKR3I5CvdN1"
      }
    },
    {
      "cell_type": "code",
      "source": [
        "# The maximum excess delay τe. Radio waves usually reach the\n",
        "# receiver on a variety of paths, and arrive at different times. The\n",
        "# time difference between the first and the last arrival of the same\n",
        "# wave is described by τe."
      ],
      "metadata": {
        "id": "fDNAHKTCSW9z"
      },
      "execution_count": null,
      "outputs": []
    },
    {
      "cell_type": "markdown",
      "source": [
        "###The Doppler spread BD"
      ],
      "metadata": {
        "id": "VhSnC_Gyvg8i"
      }
    },
    {
      "cell_type": "code",
      "source": [
        "# The Doppler spread BD. This describes the widening of the spectrum,\n",
        "# caused by different Doppler shifts on each multipath.\n",
        "\n",
        "# It is inversely proportional to the coherence time TC, which is the time\n",
        "# over which the channel may be assumed constant\n",
        "\n",
        "## BD = 1/TC"
      ],
      "metadata": {
        "id": "RR-pLWJsS6VM"
      },
      "execution_count": null,
      "outputs": []
    },
    {
      "cell_type": "markdown",
      "source": [
        "###the delay spread τDS"
      ],
      "metadata": {
        "id": "q4CAYKC6vk0i"
      }
    },
    {
      "cell_type": "code",
      "source": [
        "# the delay spread τDS, which is an average\n",
        "# value for the time difference of multipath propagation times.\n",
        "# Paths are weighted by their attenuation, meaning that paths carrying\n",
        "# more energy contribute more to τDS than paths with large\n",
        "# fading.\n",
        "\n",
        "# The delay spread is inversely proportional to the coherence\n",
        "# bandwidth BC, which is the bandwidth over which a channel may\n",
        "# be considered flat. (?? channel flat = channel constant)\n",
        "\n",
        "## τDS = 1/BC"
      ],
      "metadata": {
        "id": "XDWjghwrT207"
      },
      "execution_count": null,
      "outputs": []
    },
    {
      "cell_type": "code",
      "source": [
        "# It must be emphasized that channels are not deterministic, and rarely\n",
        "# static. The characteristics listed above are therefore expected values,\n",
        "# derived from random channels."
      ],
      "metadata": {
        "id": "_OV1T3zXT_Kv"
      },
      "execution_count": null,
      "outputs": []
    },
    {
      "cell_type": "markdown",
      "source": [
        "###Avoiding ISI: TG > τe"
      ],
      "metadata": {
        "id": "TfGvXW8xvpSh"
      }
    },
    {
      "cell_type": "code",
      "source": [
        "# ISI can simply be avoided by choosing the guard interval larger than the\n",
        "# maximum excess delay of the channel\n",
        "\n",
        "## TG > τe"
      ],
      "metadata": {
        "id": "dYfV6rAEUG9l"
      },
      "execution_count": null,
      "outputs": []
    },
    {
      "cell_type": "markdown",
      "source": [
        "###Avoiding ISI: BD ≪ delta_f ≪ BC"
      ],
      "metadata": {
        "id": "tVfxCNatvwlx"
      }
    },
    {
      "cell_type": "code",
      "source": [
        "# To avoid ICI, it is\n",
        "# important that the sub-carrier spacing is chosen larger than the Doppler\n",
        "# spread. However, to make sure that adjacent carriers from one OFDM\n",
        "# symbol experience similar fading coefficients, delta_f must also be smaller\n",
        "# than the coherence bandwidth of the channel\n",
        "\n",
        "## BD ≪ delta_f ≪ BC"
      ],
      "metadata": {
        "id": "g2KdmI9XXzR5"
      },
      "execution_count": null,
      "outputs": []
    },
    {
      "cell_type": "code",
      "source": [
        "# Similarly, the symbol duration T must be smaller than the coherence\n",
        "# time TC of the channel\n",
        "\n",
        "## T < TC\n",
        "## <=> 1/ delta_f < TC (bcz T = 1/ delta_f)\n",
        "## <=> delta_f > 1 / TC\n",
        "## <=> delta_f > BD (bcz BD = 1/TC), which is already stated above"
      ],
      "metadata": {
        "id": "PSCrqVi-YVPa"
      },
      "execution_count": null,
      "outputs": []
    },
    {
      "cell_type": "markdown",
      "source": [
        "##Technical and Regulatory Constraints"
      ],
      "metadata": {
        "id": "G7r7F8OOby5X"
      }
    },
    {
      "cell_type": "markdown",
      "source": [
        "###Available channel bandwidth (B), Center frequency (fC), Max transmit power (Pmax)"
      ],
      "metadata": {
        "id": "9eyrTm9F0lgo"
      }
    },
    {
      "cell_type": "code",
      "source": [
        "# When implementing a system designed for commercial application, there\n",
        "# are limits given by the law and the available technical capabilities\n",
        "\n",
        "## the available bandwidth B\n",
        "## choice of centre frequency fC\n",
        "## the maximum transmit power Pmax are restricted"
      ],
      "metadata": {
        "id": "k7Ltqq7ebuxz"
      },
      "execution_count": null,
      "outputs": []
    },
    {
      "cell_type": "markdown",
      "source": [
        "###PN: noise power"
      ],
      "metadata": {
        "id": "OVNuIc9T00Zn"
      }
    },
    {
      "cell_type": "code",
      "source": [
        "# One figure of merit entirely dependant on the available hardware is the\n",
        "# noise figure NF. Together with the bandwidth (B, mentioned above), it defines the noise power\n",
        "\n",
        "## PN = NF · kB. Tn. N. delta_f\n",
        "### NF: noise figure of the hardware\n",
        "### kB: the Boltzmann constant (1.381×10−23 J/K, joules per kelvin)\n",
        "### Tn: the noise temperature (K, kelvin) (i.e the temperature at which the hardware operates)\n",
        "\n",
        "# sqrt(PN) = Vrms_noise amplitude\n",
        "# Other references of noise temperature (actually, it is the same as noise spectral density of a resistor, a transistor. It has been defined in plenty of electronics course)\n",
        "## [1] https://en.wikipedia.org/wiki/Noise_temperature"
      ],
      "metadata": {
        "id": "7ouTCpEecFLZ"
      },
      "execution_count": null,
      "outputs": []
    },
    {
      "cell_type": "markdown",
      "source": [
        "###SNRmin, and its relaion with (PRx, PN) or (pFA, N, M)"
      ],
      "metadata": {
        "id": "8vUfVAw903lX"
      }
    },
    {
      "cell_type": "code",
      "source": [
        "# When Pmax, PN, fC, and B are given\n",
        "# the minimum SNR required to detect a target is\n",
        "\n",
        "## SNRmin = PRx/PN = ln(1 − (1 − pFA)**(1/N*M)).\n",
        "# pFA: false alarm probability (which could be a requirement set by commercial application users)\n",
        "# Note: x**y = x power to y"
      ],
      "metadata": {
        "id": "_sxzZuQTdNOA"
      },
      "execution_count": null,
      "outputs": []
    },
    {
      "cell_type": "markdown",
      "source": [
        "![Figure_1.PNG](data:image/png;base64,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)"
      ],
      "metadata": {
        "id": "9Mtq-4S-d45f"
      }
    },
    {
      "cell_type": "markdown",
      "source": [
        "###d_max and SNRmin"
      ],
      "metadata": {
        "id": "b2IygCq31EXw"
      }
    },
    {
      "cell_type": "code",
      "source": [
        "# When the SMRmin is determined so that the target could be detected,\n",
        "# we could futher deduce what is the maximum distance from which the target could be detected (i.e d_max)\n",
        "\n",
        "## SNRmin = PRx / PN\n",
        "## = Pmax * GRx * (c0**2) * target_cross_section * N * M / [((4*pi)**3) * (fC**2) * PN * (d_max**4)]\n",
        "# GRx: receiver gain (i.e antenna gain)"
      ],
      "metadata": {
        "id": "UnuKsFerf7KC"
      },
      "execution_count": null,
      "outputs": []
    },
    {
      "cell_type": "markdown",
      "source": [
        "###ES/N0: On each sub-carrier, the modulation symbol energy per noise power density, and its relation to Eb/N0 (the bit enery per noise **power**)\n",
        "\n"
      ],
      "metadata": {
        "id": "7z0eCVgp1KfZ"
      }
    },
    {
      "cell_type": "code",
      "source": [
        "# Using the free space path loss equation, a receiver with distance dcomm from\n",
        "# the transmitter will receive a total power of\n",
        "\n",
        "## Pcomm = Pmax * (c0**2) * Grx / (((4*pi)**2) * (fC**2) * (dcomm**2))"
      ],
      "metadata": {
        "id": "_tcDjjkjfKAx"
      },
      "execution_count": null,
      "outputs": []
    },
    {
      "cell_type": "code",
      "source": [
        "# On each sub-carrier, the modulation symbol energy per noise power density\n",
        "# ES / N0 is thus\n",
        "\n",
        "## ES / N0 = (Pcomm/ N) * T / (NF · kB. Tn) (3.152)\n",
        "# T: duration of an OFDM symbol\n",
        "\n",
        "\n",
        "# When choosing a modulation alphabet, it must be ensured that the\n",
        "# Eb/N0 is large enough. As an example, assume that every modulation\n",
        "# symbol shall represent one bit using BPSK modulation. In this case,\n",
        "# both Eb/N0 = ES/N0 and (3.152) are used to assess whether the Eb/N0\n",
        "# is large enough for a target bit error rate"
      ],
      "metadata": {
        "id": "gSyF7SREdBmj"
      },
      "execution_count": null,
      "outputs": []
    },
    {
      "cell_type": "markdown",
      "source": [
        "#Example for determining parameter sets of ISAC in an commercial application (i.e KPI of ISAC for the commerical application) ([1] section 3.6.2)"
      ],
      "metadata": {
        "id": "_1uistuvgZ_c"
      }
    },
    {
      "cell_type": "code",
      "source": [
        "# The Figure 1 below shows requirements for radar and OFDM communication\n",
        "# , which are 'Radar specifications' and 'Communication specifications'.\n",
        "# The 'Suggested Parameters' are the results of analyzing the radar and communication specifications"
      ],
      "metadata": {
        "id": "mSsugwuQh0Yt"
      },
      "execution_count": null,
      "outputs": []
    },
    {
      "cell_type": "markdown",
      "source": [
        "**Figure 1**"
      ],
      "metadata": {
        "id": "wFQL-03xh197"
      }
    },
    {
      "cell_type": "markdown",
      "source": [
        "![Examples_ISAC_parameterSet.PNG](data:image/png;base64,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)"
      ],
      "metadata": {
        "id": "bp-w04SQgpRE"
      }
    },
    {
      "cell_type": "markdown",
      "source": [
        "##EX1: 24 Ghz ISM-band for both inter-vehicule radar and communication."
      ],
      "metadata": {
        "id": "dCHUj93ohPE0"
      }
    },
    {
      "cell_type": "markdown",
      "source": [
        "##Radar requirements"
      ],
      "metadata": {
        "id": "u07QeCD0i8H7"
      }
    },
    {
      "cell_type": "markdown",
      "source": [
        "###OFDM minimum Bandwidth"
      ],
      "metadata": {
        "id": "XPj2LzVbM3VC"
      }
    },
    {
      "cell_type": "code",
      "source": [
        "# From Figure 1 above ('Radar specifications'):\n",
        "c0 = 3e+8 # [m/s], speed of light\n",
        "delta_d_max = 2 # [m]"
      ],
      "metadata": {
        "id": "7qgWv28PgeYw"
      },
      "execution_count": null,
      "outputs": []
    },
    {
      "cell_type": "code",
      "source": [
        "# The required minimum OFDM BW:\n",
        "OFDM_BW_min = c0 / (2* delta_d_max) # [Hz]\n",
        "print('OFDM min bandwidth (N * delta_f): ', OFDM_BW_min / 1e+6, ' [MHz]')"
      ],
      "metadata": {
        "colab": {
          "base_uri": "https://localhost:8080/"
        },
        "id": "d5A_a4OkkSZb",
        "outputId": "a8f381b1-7567-432c-b62f-2090268fa1b1"
      },
      "execution_count": null,
      "outputs": [
        {
          "output_type": "stream",
          "name": "stdout",
          "text": [
            "OFDM min bandwidth (N * delta_f):  75.0  [MHz]\n"
          ]
        }
      ]
    },
    {
      "cell_type": "markdown",
      "source": [
        "###OFDM minimum frame duration"
      ],
      "metadata": {
        "id": "pCWUf2rlM7xL"
      }
    },
    {
      "cell_type": "code",
      "source": [
        "# From Figure 1 above ('Radar specifications'):\n",
        "delta_vrel_max = 2 # [m/s]\n",
        "fC = 24e+9 # [Hz], because the system operates in 24 GHz ISM -> the center freq of this operation band is 24 GHz"
      ],
      "metadata": {
        "id": "9ofLt-wulqna"
      },
      "execution_count": null,
      "outputs": []
    },
    {
      "cell_type": "code",
      "source": [
        "# The minimum OFDM frame duration:\n",
        "OFDM_frame_duration_min = c0 / (2 * delta_vrel_max * fC) # [s]\n",
        "print('OFDM min frame duration (M * T0): ', OFDM_frame_duration_min, ' [s]')"
      ],
      "metadata": {
        "colab": {
          "base_uri": "https://localhost:8080/"
        },
        "id": "AAjLpq9TlJGq",
        "outputId": "9a8d9394-63c0-4a85-c0b3-82e67545bbb7"
      },
      "execution_count": null,
      "outputs": [
        {
          "output_type": "stream",
          "name": "stdout",
          "text": [
            "OFDM min frame duration (M * T0):  0.003125  [s]\n"
          ]
        }
      ]
    },
    {
      "cell_type": "markdown",
      "source": [
        "###Sub-carrier spacing: delta_f"
      ],
      "metadata": {
        "id": "3VJI4JviNAri"
      }
    },
    {
      "cell_type": "code",
      "source": [
        "# From Figure 1 above ('Radar specifications'):\n",
        "vrel_max = 55.6 # [m/s]"
      ],
      "metadata": {
        "id": "CTSWnavPoSu6"
      },
      "execution_count": null,
      "outputs": []
    },
    {
      "cell_type": "code",
      "source": [
        "# the minimum delta_f (sub-carrier spacing)\n",
        "delta_f_min = 2 * vrel_max * fC / c0 # [Hz]\n",
        "print('min sub-carrier spacing: ', delta_f_min, ' [Hz]')"
      ],
      "metadata": {
        "colab": {
          "base_uri": "https://localhost:8080/"
        },
        "id": "vLeytHU6lgAL",
        "outputId": "91592e42-bb82-40e6-8ae6-07fed811afd0"
      },
      "execution_count": null,
      "outputs": [
        {
          "output_type": "stream",
          "name": "stdout",
          "text": [
            "min sub-carrier spacing:  8896.0  [Hz]\n"
          ]
        }
      ]
    },
    {
      "cell_type": "code",
      "source": [
        "# It is advisable to chose the delta_f >= 10*delta_f_min\n",
        "delta_f = 10*delta_f_min # [Hz]\n",
        "print(delta_f, ' [Hz]')\n",
        "# According to the Figure 1 'Suggested Parameters',\n",
        "# the author rounded the delta_f up to 90.9 kHz\n",
        "# Therefore, we follow the same\n",
        "delta_f = 90.9e+3 # [Hz]\n",
        "print('chosen sub-carrier spacing: ', delta_f, ' [Hz]')"
      ],
      "metadata": {
        "colab": {
          "base_uri": "https://localhost:8080/"
        },
        "id": "-RCFu6Eyorma",
        "outputId": "4c4296eb-3946-4d8f-f6d6-dc4128007ebf"
      },
      "execution_count": null,
      "outputs": [
        {
          "output_type": "stream",
          "name": "stdout",
          "text": [
            "88960.0  [Hz]\n",
            "chosen sub-carrier spacing:  90900.0  [Hz]\n"
          ]
        }
      ]
    },
    {
      "cell_type": "markdown",
      "source": [
        "###OFDM symbol duration (T) and its cyclic-prefix (TG)"
      ],
      "metadata": {
        "id": "qOXauf9RNFP6"
      }
    },
    {
      "cell_type": "code",
      "source": [
        "# OFDM symbol duration:\n",
        "T = 1/delta_f # [s]\n",
        "print('OFDM symbol duration without cyclic prefix (i.e TG: symbol guard time)', T, ' [s]')\n"
      ],
      "metadata": {
        "colab": {
          "base_uri": "https://localhost:8080/"
        },
        "id": "FdSh_viNpWni",
        "outputId": "62bde25f-89d5-4127-9d84-6f182bfc84ad"
      },
      "execution_count": null,
      "outputs": [
        {
          "output_type": "stream",
          "name": "stdout",
          "text": [
            "OFDM symbol duration without cyclic prefix (i.e TG: symbol guard time) 1.1001100110011001e-05  [s]\n"
          ]
        }
      ]
    },
    {
      "cell_type": "code",
      "source": [
        "# From Figure 1 above ('Radar specifications'):\n",
        "d_max = 200 # [m]"
      ],
      "metadata": {
        "id": "A0lnRAcZqToK"
      },
      "execution_count": null,
      "outputs": []
    },
    {
      "cell_type": "code",
      "source": [
        "# the minimum TG (OFDM symbol guard time):\n",
        "TG_min = 2 * d_max / c0 # [s]\n",
        "\n",
        "# compare TG_min with the rule of thumb in choosing TG = 1/8 * T\n",
        "TG_rule_of_thumb = 1/8 * T # [s]\n",
        "\n",
        "print('TG_min < TG_rule_of_thumb: ', TG_min < TG_rule_of_thumb)"
      ],
      "metadata": {
        "colab": {
          "base_uri": "https://localhost:8080/"
        },
        "id": "6c6xjlkXqgqJ",
        "outputId": "fc03000c-13b7-475e-c696-4d7a205e80be"
      },
      "execution_count": null,
      "outputs": [
        {
          "output_type": "stream",
          "name": "stdout",
          "text": [
            "TG following rule of thumb:  1.3751375137513752e-06  [s]\n",
            "TG_min < TG_rule_of_thumb:  True\n"
          ]
        }
      ]
    },
    {
      "cell_type": "code",
      "source": [
        "# Therefore, we chose TG = TG_rule_of_thumb\n",
        "TG = TG_rule_of_thumb # [s]"
      ],
      "metadata": {
        "id": "MpYO2Wx1rZ42"
      },
      "execution_count": null,
      "outputs": []
    },
    {
      "cell_type": "markdown",
      "source": [
        "###Total number of sub-carriers (N) in OFDM bandwidth; and total number of OFDM symbols (M) in a OFDM frame duration"
      ],
      "metadata": {
        "id": "b82tc8AeNNN0"
      }
    },
    {
      "cell_type": "code",
      "source": [
        "# The min N (total number of sub-carriers)\n",
        "N_min = OFDM_BW_min / delta_f\n",
        "print('the min total number of sub-carriers: ', N_min)\n",
        "\n",
        "# The min M (total number of OFDM symbols in a OFDM frame)\n",
        "M_min = OFDM_frame_duration_min / (T + TG)\n",
        "print('the min total number of OFDM symbols in a OFDM frame: ', M_min)"
      ],
      "metadata": {
        "colab": {
          "base_uri": "https://localhost:8080/"
        },
        "id": "MCHhJ7lqrxUS",
        "outputId": "6126d69c-3755-41c9-9186-8c65b21edb02"
      },
      "execution_count": null,
      "outputs": [
        {
          "output_type": "stream",
          "name": "stdout",
          "text": [
            "the min total number of sub-carriers:  825.0825082508251\n",
            "total number of OFDM symbols in a OFDM frame:  252.5\n"
          ]
        }
      ]
    },
    {
      "cell_type": "code",
      "source": [
        "# From N_min, M_min, we can say: in Figure 1 'Suggested Parameters',\n",
        "# the chosen N = 1024 and M = 256 are valid\n",
        "N = 1024\n",
        "M = 256"
      ],
      "metadata": {
        "id": "c8irrfRfscGp"
      },
      "execution_count": null,
      "outputs": []
    },
    {
      "cell_type": "markdown",
      "source": [
        "##Communication requirements"
      ],
      "metadata": {
        "id": "woF5yk4qs0yR"
      }
    },
    {
      "cell_type": "code",
      "source": [
        "# To prove that the communication requirements\n",
        "# are fulfilled, knowledge of the inter-vehicle channels at 24GHz\n",
        "# is required, which can only be reliably obtained by elaborate measurement\n",
        "# campaigns."
      ],
      "metadata": {
        "id": "azlv8cE1s6U0"
      },
      "execution_count": null,
      "outputs": []
    },
    {
      "cell_type": "code",
      "source": [
        "# the table 3.5 shows the worst cases channel characteristics in different scenarios (urban, rural, highway).\n",
        "# Except for τe = 1.5 us, all the channel characteristics belong to 'highway' scenario"
      ],
      "metadata": {
        "id": "0f-9OpINtDQ6"
      },
      "execution_count": null,
      "outputs": []
    },
    {
      "cell_type": "markdown",
      "source": [
        "**table 3.5**"
      ],
      "metadata": {
        "id": "NdwAVcwUuISN"
      }
    },
    {
      "cell_type": "markdown",
      "source": [
        "![Table3_5_channel_characteristic.PNG](data:image/png;base64,iVBORw0KGgoAAAANSUhEUgAAA04AAAEvCAYAAAByl5FXAAAAAXNSR0IArs4c6QAAAARnQU1BAACxjwv8YQUAAAAJcEhZcwAAFiUAABYlAUlSJPAAAHTxSURBVHhe7d3fTxtX3j9w/gDfcJmLSJEQEhdIqwhxQVRVcJGoFRJEG6EoKUIOagVREwGtgpMokKiFRMXRk2JtS7JPrTYouyXbWNmt0w3tA+0TsoLuhv3WUUFZ+gR2oYlbSPMDuYgEJ/P+nmN77LE947HNOGDyfkmjKLbxjGfOnPP5zJxzpgBERERERESUEhMnIiIiIiIiE0yciIiIiIiITDBxIiIiIiIiMsHEiYiIiIiIyAQTJyIiIiIiIhNMnIiIiIiIiEwwcSIiIiIiIjLBxImIiIiIiMgEEyciIiIiIiITTJyIiIiIiIhMMHEiIiIiIiIywcSJiIiIiIjIBBMnIiIiIiIiE0yciIiIiIiITDBxIiIiIiIiMsHEiYiIiIiIyAQTJyIiIiIiIhNMnIiIiIiIiEwwcSIiIiIiIjLBxImIiIiIiMgEEyciIiIiIiITTJyIiIiIiIhMMHEiIiIiIiIywcSJiIiIiIjIBBMnIiIiIiIiE0yciIiIiIiITDBxIiIiIiIiMsHEiYiIiIiIyAQTJyIiIiIiIhNMnIiIiIiIiEwwcSIiIiIiIjLBxImIiIiIiMgEEyciIiIiIiITTJyIiIiIiIhMMHEiIiIiIiIywcSJiIiIiIjIBBMnIiIiIiIiE0yciIiIiIiITDBxIiIiIiIiMsHEiYiIiIiIyAQTJyIiIiIiIhNMnIiIiIiIiEwwcSIiIiIiIjLBxImIiIiIiMgEEyeiNBQUFHDhwoULFy4bdiEiczxTiIjyBIMbygTLCxGRtVirEhHlCQbClAmWFyIia7FWJSLKEwyEKRMsL0RE1mKtSkSUJxgIUyZYXoiIrMValeh5Uf4D7+FGNDQ0ZLc0nsP4khL5MnoRMRCWFAQf3saY92M425tRX1ONmnp5jjSj3fkxrozfwbJ6mixPov+AC2Pa8yaN87CxbxxLoQ8/wnjfQd3PRJfDXsyt09PyhSkvwQeYHvPC7XSgqX4nqmv2imNjR1O7E+4r/4R/+VnkgwFM9XfAOfYw8n/pCea8J5KPq3aJ1r0KlsbPoVHvM9HlBLxzT8JfTUQbDlthojWgLI6iu6IwFNhsah/GYuT1JMFFzN64iM6aEhQUtsA7H4y8QS8iqwNhZe4Kjjtc8Ix8jxn/w2jCoSw/wI9T4xj69DSOXpgQoWU2niIwcx0DvUfQ1NSOLue7aG9uQ9f5bzATeBr5TIaCdzHmdqC6qBTV7R/hS98cAkE1a3mG5XuTGP7oKJq7v8B04BEm+nbDtukIhhfVwDme9jwstF/EbPS7dARvY8AuzkPx2YKK03lxESMniZOyiJmvz6OrRSafu1BVWYOGlpM4PzyFh6n2nwFl8R9w7TyIgdlsStlj+Mc+QXt1KYqqHXB/6cNcIFZHKsvzmBz+SJS7HlyZfoSliXOosZWhffhe5BMJlPsY694RPsaFTWKbliNv6FnG7EATCuVnC16Bc/xR5HUi2siYOBGthWe34N6xKdRAp0ycQhQEZz1oLt4N91Sqhpw2OqsD4WdTbuwIBX56yyaUN1/ARFZJjghoh95FVeGr6Bz8d+wOkCKSGXcTKnb3YnQhk4sA4hxY+BZn7VtRULQL3V9qvjOJSNgmzmN/XTVetonfkSJxyuw8vIfh9rLwvtnhxpTBV64nclstFfwRQ8cPoPPzW9EkSVn+Gb5LR1Fls6G44QOM+h+HXk+Lcg+j3dWwFdRlXrcFf8aNs6+juKAENd1fYjZ6VymZErgJ9/7dqH55s9gnKRInkQxNuevCxzhVuQl5hsXhI9gUOley2H4iyktMnIjWQkYBm/QQY10N6IrrYkIvGqsDYf3EyYaiqv1wfv49HmRxB0EmLg9Ge0KBdIljCPcTv2Lpn+jdvgXFzZ7Ud3g0lMVv4dwug94KtHpnYZ5yPcZd7yGUyN/DxMkayn3ccL6ONt39vwhf706RAInkyX4BU8ZZrYZaTmSZyzDxCG1LbWh9Ja1e3DUtRyLxvutFa4lNrIuJExFlj4kT0VrIOHGSjXQXDnjviBCAXlSWBsKCTJyq26/izr05TPnGMT5+E1M/PkhxNycNocRIJjkvoWPkl8iLWmpwug2O4Xnz8qzcxWBbhfi8CMr3fw5/utu2Mgl37RYmThZRZgewd6f43Sv6B0CZ96K5UCYR5Wgd9JseV+XB33C6owOHquT+zyTxCGJ+0BFOiovb4PWvRF43syTK3V6RbDFxIqLsMXEiWgsZJ04yyP0ETe5bormmF5WVgbAUTpzSK3/pUbA0dhKlKYNJNeA0uCMV5ynuDx8LB8kZjyMRAba3BYVMnCwQ2ZfybmTNexjW646nzGBgT1F6+1J20TvtxOV//7/I/k8/8VDuD8ERunNUiArnPyKTeKQnnNwxcSKi7DFxIloLpgHbIiYv/xWT2gHoi2P43Tl1ti96EVkXCIdZnzg9wexAI2wpg0lNclV6Mn7Gu0TKLDz7IhMymH1Wh7xLsmczE6fV0yQUBZuwQ/cCTrr7J4iFay4cvzyDYHT/p5t4rOCuZ39kQobKzLsuh5K7SiZORJQ1Jk5Ea8E0YBNByJFT8Q23chcj57rR3mRHQ8NeVG/rEO8HEZj+Er2OdhxqeAXbW9y4cS9xBIIcWP8dLruOoLmlAz1pzW4m/ubeBL48fxIt9ma0d72Hro534PJGxr0o8xh2vKkJFkQwPHkZzo4W2OWUvPXVKHtFGzytwD/iRld7c3jK3rpKlBoGqo+x4PszXI4DaOk4BWdXu9jukzj/9W0EtHHz0iQ8zg6xfXIK4F2oLD0q9sfT0G/1OI/C0dWDnmPN2G3vhDvxb5Os4OHU1zjf1Yp9ch/1iO9tPgLX5e+woI6f0JnGur66ClV7z2pmWHuCOc8BlFXuin3OwmnkrQuEw6xPnLQBtnEwGR1bZWtMOZtarPtXAQqbvZjPdDc++Q69lceeT+IU/a5NKKt7C11OJ5zR5RSONWwLJ5QlJzCSMiC3jnXlRdQH/iF015SmuON0B97m0tA6bXsGMGtwrJT5QRx563J4fFumiZNmHdnNMhqAr7fhOSVOse+yle3GIVEfxcqDU9RNDSgPje8y6tJKROsREyeitWAWsOkGfCJJuncXM75L6KjaLBr2w7h68zJOuEZxP6gGFDaUdo1q7krJGcY+gb2kOn52s+A8Rp07UWL/RGfWtMfwj36AhuIiVHf/D+ais1XJ77qAwyf/B3f+cwn7CuODBWX5IX7y/x9GXa+FrwjHBZci8Ar8Av/cBK521YQCSN3fHZp17Q2UVL2DwdlfxV+FXkTw/t/g3L4NdvfNWAKkLOPhT7OYGnKiJjR7mtgft/4HLtdXmhm21CmDK9A2eDfyfQki6ywufgNu3y9iL6tW8MD3Mfa/eRHT2nEd0WmpS7DPM6vznZF1Fr+Oszd+1nzf6snyYqVw4vQVfvaPi8S6A+0yUdVLGtOmdukyCiYlBU98LmwLfaYavb5A5PVE2sC0ENt6v8tyWvQUrEycFofRvqkCrZdvJ48RW/kBA/u2ir8tQ7NnxtIykYrV5SUlWWdtk1O7b0Gte1KcPTrkeLWjpzCoJjyZJk6hfSzLg1i2ueB7kmn5NGNl4iTLSzlKWkWSmDTj3xKmB/ajWI7by2CSFCJae0yciNaCYcAmE4z/YFROs2vYcEcCuE01aDio3u1YhK9vL4psL6Pt6o+RYF58V2ga80LdsSThsQKJ7z3F4o0z2C6nFtZt0OXA7Hewu1pePdcPdqJ3E3S768SCjeRAVSQcnhYRTOhNGqCOddF5T92XYn/YD7nhS7i7o9610L8KLh+I2aS/TuUnjDjrUWZLfE/dFqMxOjIx+BD1vf+0vFul1YGwPFavvPwajp27pkmQxS+Q0zfby1Csm1in9my6HztTzpSmTa5SjTfRdvsz6h62Sprz0FZWjXrN3cTkZS+qy8KfNUqcHLvE60mTJwTCz5OS5aXtauZ3zVbB6vJiTDMWzXDCBll3nMJR7QWMDBOnUNfLUNkyOAarpkmcbGWoDj1Y2Xipry6LlE+DxCl0Vz6xFlCwHHqelPi7EkcsiSSivMDEiWgtGAZs9airLA433GaJU9JVeJEoBTVBbqg73TbxOaOr+nKK88r4Li/RGdFSDMRfGkVXqRycbW3iFB30bXQlObLepC5b0X1ZhD0DM5oEJ0K9Sp00RkbBitjWWhHA2Gp1At7o70z+3ui2lhzD8P3ExELs1+4jWT7QMzWrA2Fl9hLeOnkdD5J2mrpvNqOqW+/9FJQ5ePfL8lmKZt1ZICPlTpaRdGc4ew6J02rvOCnzV/D2Se3dXukpAr4PQkGyraoHow8yS0JXy+ryYkidwdD2KjqHftS5oybqprtXcOTooMG5m17iFK1bDI7B6ll4x0l2K3z7/aRxeUpgHK4aua+q0T16T+f8IKL1jIkT0VpIFbApy1gYc6HGcFC7GsClHhwdvTprGACoV/TV4FVz1ThVN5joOAMrE6fY3QXDAFadtSvx95gFX2rilLQf5HiHavF3Rt3AHsM/9ilcZ/+KqaS7Lmrwn5wcyKTqyFtXcnJn4bkFwpLa9cq2C30Tv0ZeTEfsTmfy9OHyvc/R3boPlbKMpEyctHem8iBxmvsCZ7z/iS8L6vOn1ihIfj7lRe12tjW+K61WcAaet7qT765kmDhpx7yt/8TpP/Ce+QJzcQVCff5UFhckiGhdYOJEtBbMAjaZJNSfMEmcUgUbmkbdMMBQP6MGpWoiYRZEpl5/domT+p2pAmSD9WabOEX/zujOSCoKnkycxQ55JyGuC2AQC4OncDyd5xNl4fkEwip1f2czvugZlme/RHdNFexnr2M2IAJmZRn3Jq/A5foadyY+itw5SFWGtWOhzBMbZc6Lww2N4QlFNIPw5cQMHS2N+pN0WJg4JZFTbndXh4Lk7c5vsbgGQXLuy0uka2/hK3B4bhlMwLKM2ctOnNZLHDNMnGLjqHTO50SRyVzsoQlxtOXBiZ7QJDYH0Zd0V93KMU6JYg/8tW0/gxuLz/fuIxFZg4kT0VowDdhEkJY4q16UQQIRRxMAFNehvSc+cIhf3seF8V9EUBMLDJ974hTdHzYU1x1KCnTil08xru3yZBZ8GSVO6usp73qkEO2etFesN9JBS06fffBMxtNmp0sem+cnVh5SzZKWUvABpsf+igt9/wVnrxuekSk8DGoSIrMZ5p7cRN8O2XVUfDbtyQAUBANT8LTKh+aKvyt8AxduqxONJMhZ4iSn3O4OB8k15zCxqicKZ09ua+4oWJ66EJ54Rrd7niTvMP4Fx0//Tf/uSqaJE37FRN+uyLiiVBOLJAg+wm3P25HngZXAfuFfBg95zl3ipCx8g+NyUh/bbvRNpLndRLTuMHEiWgumAdszLD9aNGjc00mcNAPr07k6HrKGd5yiD8/MoktWtolTdAxTlolTdB9vxo6+m6E7Msrsn3Agw4dyZsK6QFjBysznOFy9FeXNFwwmgMgkUchErAue+RTjSyKQ3Rsux9oE1VSaAXCOEidl/ira5Bi44ib0T2mDZDkt/18wojt5gvWsKy+JRELk/wqdtW/CPfFIPykNkcdhL8qq98ZNqhBbdqGySJ6Dxaisqw+/lnL6/ti4xJSz9+mIjY9Kc1ydlYmTnE2wTSbyW2HvnxRriVH81/HHEYMZP4lo3WHiRLQWMgrYEqWTOGXwkNGoNMc45SJxio4ZSpxOPQ3ZJk7RsVrZj59R7nqwT465CO3jX0XQdRxnMxoPlBnrAmFNgGg4Vi6WKGReRlNRE3S92RN1LN9EnxxMbziLoZ41TJzkeJ5m+bmt2DfwQ0JgL8r5ya4snj+UHbmtuSDvnpzYJ37H9GLy8Vv5Fy7+7hsspHOcond9TRKPOOosheLvdCdn0bd2iZM6W6gNxfsG4h9tEKqn38fbGXcVJqK1wsSJaC3kPHES1G5OJlfqFf/f8NlYOIBVHlxHd6g7SYq/iY4z0F9/dFIK3eDS6K6WZsyQ3gx3UfKK/RcY0z7kN9vESZMoFu7z4K7hKlMEgtGZC0US8MUV9L7xSYptXz3rAmER9I28g4rKPWh1/S/8es+Rie7XcrQO+jMI7IJYGHGipvhlNH96K+7qesjSP+CsKDQ5zlqRuxuhcpnuJAtrlThpgmS96fxlsn6gyyQgt4515SVGTlX/8eEzGNJ7CK6gP7uggawSJyH4I4Y6Xw3d7U13koW1SZxkV0U5UYq8+9gCz2ziZ+Td1w4czuqONxGtBSZORGvheSROIjEIPfy2eItxcCFneXK9h4vTapijDmA2urofG+BsuH61C5xecLn0/3B23w5s1fvd6oNoUwTHyuLf4Tp6Kf6qbdaJk6AGYLZaOG/c11mnTK568LZ3ziBYV5MvG4rKXsY+venQLWRpICyPReK+jFK7ROldJRfEfhvu3oWiol3oHk4c3xJLMJLHRkVmYCvej4FomUuHnGziajh5Kt4H1+hdgzE1Eer4MxnUPrfESeyz6QHsk0FyySF47yYnFqE7lC/n4sGt+iwtL9LyJPqbX0f34CT8fr/Ochs33G1oTPc8yDZxEpTlf2MwlDxtRYPrun7yH6Xp8vk8E6fog48r0OqdTS6zckzkvj3pj9UiojXHxIloLWhmhyq0X8zsyfHRLmYpnrUU9RgLN34vkqcy2M9+iwXNepTlOxg7dwInkwZ2P4Z/6F2RHJWj+cKEZqasFTzwncfhLieOVaVIVBB5qGziXavgTxh1vY9LV3tDV35t27tx9V+z8N8LxNYf/Bk35MN/i1/H2Rs/a7ZLBM7+UZzTu9Id3Zf6g8WjUxhrn1eloQR+gLfjVRRWHcWliV806xS/9/tPcfzU/6QOytREsbgdgwvJ328lawNhObj/Mo53/B5DU/djv1tOh+/7DI6qElS2DmBSZ/xT7Oq9WJKSiHByvb3iIPo1419keRsfOILtVYcwMJlqXIwxJfB/GHz/dZTbSlDd/hG+9M0hoD02wUXM+a7iw6bt2H7sd3jfLoLWVAFw5O5XWudh8DYG7CXh31xxOnkcjkwq5PpEkNymfchrRDTQN7xbZT1Ly0v0Lk/kuBsu6Y4ZlHdjLsIeml58B7rH9C5cmFAWMT34Puzlm1FU7YD7Sx/m5AyOUUEE5nwY/HA/KrYfwX+/34jilNv3COPOV8K/o7AJA0l3iLSWMTvQFJkuX68uVh+ubfDgY+VXzA6+I+rZzJNGIlo7TJyInpfI9Ljxg6MTl0YcTngWTFSqvzcZUB18OIXhfifam/ajvasHPR1vobXrAq7PGcw2JoLfwMx1fOp8C/tC0/meQkd7J/q+/D8Enprc4ZGUR5i68js4ml6PTA/dhY6u86H1PRVB987KXeHtbmpH17mRhGf9rODh1NfodzrQJN+X6259G1391zG3rIk4l8bR15iwH0JLeJrh8PTUeu+fgHcuYXJtJYDZMQ9cjubI9MXvwtF+CueHw7PApSZn+qpDadrjb7InAzprRcrG+ZNosav7x44mhwue0dvGv135WSTBr6Oi4nW4Rn/WKUPyGVh/QJecBlzd701H0DtwHTO6E1FkQiTR925hxOOGs70JdVVVqK4X319fjTLZ1bNsD465R0PJruxW1v92H77VnhtpnIeNfeORrmYikO47qPuZ6HLYizlF88ypohq0iHMsNgtkD7raGyKTIKQzIYZ1rCsvmslmTBeTRMBs/6esy/Qpy/OYHLkMt6wz6nagMjQZxV5Ul4l6ylaOumPnMSYvuMi72v3vwvWtdkzfE8x5TyRvh3aJbpMiqp1zaNT7THQJ1y+xZ06JJL/lHU15EEvXITSoDzo3uKBDROsTEyciyoxZ17gXzgrueo7jZIqHEVtFBlqkJ4jAvZ/g9/8SfwfqBffilhcFwcAvojz8hHtxd6CIiFaHrTARZYaJUzw5nuZ1V8ZXybPBxIkywfJCRGQt1qpElJkXOHFSAnO4OenXPF9LwZLvLA5k8DyZ1WAgTJlgeSEishZrVSLKzIuaOCl+DLaWi9+tmZ5bPtjyyDvw5v0DTWkjYnkhIrIWa1Uiykx0JrJ0ZvXbQCLPbLKVt+DTKTl7n5x98H0cvzyjmYkvtxgIUyZYXoiIrMValYjSYzKL3YtACXyPi8cPo6OnB12OEzg7Mqvptpd7DIQpEywvRETWYq1KRJQnGAhTJlheiIisxVqViChPMBCmTLC8EBFZi7UqEVGeYCBMmWB5ISKyFmtVIqI8wUCYMsHyQkRkLdaqRGmQAQgXLly4cOGyURciMsczhYiIiIiIyAQTJyIiIiIiIhNMnIiIiIiIiEwwcSIiIiIiIjLBxImIiIiIiMgEEyciIiIiIiITTJyI0qA3dSsXLly4cOGyURYiMsczhYgoTzC4oUywvBARWYu1KhFRnmAgTJlgeSEishZrVSKiPMFAmDLB8kJEZC3WqkREeYKBMGWC5YWIyFqsVYmI8gQDYcoEywsRkbVYqxIR5YmcB8LBuxh1teBNz7+hRF7KivIfeI93wOUZwcSMHw+Xn0VeX8bDH6cwPvRHOI/+EZNPVrUWMpGb8vIYC74/w+U4gJaOU3D2dKCluRNnByfxILia46kg+HAKw+dPorW1Az3Od9HetB8O12WM+5fSKo/K8h2MX+5DZ8sBtHe9h672NvH3X2Aq8DTyCSKi1WHiRESUJ3ITCAcRWJiB78uP0F5dItaxCTvctxBJdbLz7BbcOzaFtldvsZUfRP/Eo9UlZ2RK7mtLKY8w4X4DJTVnMLrwOPKiEPwRQ521qGi+gImskpSnCExewknnZUw8WIm8Jq3g4dRf0LF9JzqHfhQl1Yj4+ykPHNtr4bj0vSaBE8mY/39w8sglTK+wtBHR6jFxIiLKE9YGwgqWxs+h0d6CDmcfLlz9Ah81/UasI4eJU9EONDs/TwiOKVesLS9P8WC0B1WFO9HrW4y8prH0T/RuL0HV8W+wkGGOojy4ju69pzG2qJd0KViZcqO2ZD8Gppcir2mJpGniE9iLt6HVOxufXC3fwqfNL8FWUC22ORB5kYgoe0yciIjyhLWBcKJ7GG4vE+uwKHGqPobBO/OYm7qJ8fFx+KbuxLrs0XNhaXlZmYS7dgsKtrng0+1iGYCvtxoFtr1wT+klOEaCmPe2YEv7MHTSsTDlDrzNW7Gt9zs8ibykCiVdVVtQvP9z+BM2S5kdwB6bTNor0TX2MPIqEVH2mDgREeWJ/EqcOjC8yERpLVlXXhQ88bmwTXzfJsME5xkWh49gU0GhboJj7CHGuipRuM+Du4Z3qmTZLEdp1yjiU7JFkazthK1gGxzD88ldP5VHmPryPPoujMG/qvFXRERhTJyIiPIEEyfKhHXl5QlmBxpFgpIqKYolV7Y9A5hNO09R71S9ajyOKXS3qwLN3jtxyZFyfwiOEhsKClvgnTceAUVEZBUmTkTPm7wK6v0vNFcVhwKb1Esp9g7cXl0QSxuGLBO5s84SpwUvmkLdrNSlEs7x2DiVp1MDOFBXiaLo+03w+BOD56cIzHyD886TcLo/hcfzGfr7zqC3/wsMfXoCb12cSb5LsYFYV17SKxvPptzYIY/FpiMZHHsFS2MnURo6hr/BbucgpuMmmAhiftCB0poP4It7/SnuDx9Dify7HW5MZV3U7sLbJCdFUctRAYqc47EE7ukUBg7UobJIJGih94vQ4JmLvBmjBG7j6/P/hS7nRxjweHCpvw/O3gu4OnQBh9+6lEEiSUTrGRMnoudJnZWqbCcOyql8nU6xnER7XQUqm45H/q9Zej/FmF8zexW90GTgljvWJ05DP89h/LILh9s70eM8hY6WA3C4/gyfdka2lB5jYfQMaiLjVLSJU4iyiNsX28LBc1LiJCczcGJnmxd3E7ppKYvfwrm9ePW/c52zrLyExhiVmpaNaOKU6R2g4Cy8rRWh7ZWLrfJt9I//LJKXFTzwfYzmPT0YTqoHI3eqxOcLm72YD/6Cic/fh8Pxrqg730V7cxu6+q9jLq1xdQqCC9fhrNkS+r64xClEJOC3P0OLvLulkziFxlntPALv3YRtVO7jhrMWtlUldkS0njBxInpu5JXTY9jZ4Y2/oqrMY9jRyFmfyJRlgbAuixOnV6qw+5gbI3O/xu7qRC4cFBe/AXe605EHx+EsMkicJL8HDaGAOyFxevYD+ne+jPbhe5EXtFZw13MQrzJxSo88nqFZEtNMnArq4J5ajryaHiXwA6507dLcQfwNdr3xBppPD+snP9FkrgCbDv0RX/3OiT/8S1Om1ItUVe9iKK2LTwGMOytD35ecOElz8DQUifcTE6fHmO6vx2aDsV/KXQ/2vcrEiWijYOJE9Jwo94dx/MDF5OeJLI2ia2sr++iTqbxJnJQZXHzrfYw+0JleOjI7m62qR//9RNkmTovDaN+0Gdt7/5kwoUDYs6lP0MTEKT3PIXEKWZnB522VsIW+Qy42FFUfwYXQ3acE0W0qQOHLdei4MpeciKtlbfsZ3NCd6lwr28QpfN7YtrvgW9K5FCC3s+kTJk5EGwQTJ6LnJfgI9x4lPr8m0r+fXTkoDXmTOKWkdrHajB19N81nX8s2cRLJ28AeEejatsHe80cM+2awENC8H/wVD7X/34DyJ3GSD6r9G/pa2+C8egsL/n/iYudvNXeftsLuvomANi/RJE4FpScxppe0RMvaFtS6J5H66WHZJk7qxBmbUG5/D58O+zCzEND8fRCBh7/qfB8R5SMmTkRrSjbsNTrT7BIl2xiJkzpttQh4DZ8JpJFt4iSC8eWpC7AXq4P65bIJZTVvorPvzxj3LyXfodhgLCsvOR3jFHmAbUVTQvfNFTyY+Au6d8uHMstjtxX7Bn6IJT9qYizeM57FbxlT7jqTz6iyTZyE5Un027eG/lZdbHIca2cfLo/fwfJGL2hELxAmTkRrKdSVZCv2DGzs2b3IGjIgy501SJxsjRiYNbnnlHXiJMlB/z5ccXfjYE2ZpguYWDIZZ5WnrCsv6ZWNaOKUwax64Yk6So3vCAV/ge/8QZTLCUJKjmH4vtrlTt2mVM+WiiVO5tu0isRJCs7Dd8WNroM7URY3G6TO3TIiyltMnIjW0LPpfuy08an2lB4ZiOWORYnTym14D9eiuPwg+nUTE03ilE6XrqwTpyCWl7X/F0lUYB4zEyO45GzUCcQ3HuvKSywBMX8ArtivaXc9Fn8zcgIlpneo1AfdautKtYtcZFY93cREkzgZdudTZZs4iXK1/Dj+88EAFma+x8glJ+zlsjuhwQN6iSjvMHEiWjORhj+tbi3yyvl38DhbUFv9Gg51vYNDu3eh+ey3uMfW+IWRD4lTbJyLzaALqibATufOhEnipMwNYHdofcmTQxw+YBxQz3paUBwXiG881pWX2MNtjZOUIOa9LShM+ZDcRJHEJo1yEC5X2uMV2ybjRM3CrnrKvzGwW05XrjM5xOEOgzpc1NuzHjQXF7I7NtEGwcSJaK2o4wZMx3lExgAUl8EuEqUF9Zk0wVtw19Shb5LN8YsiHxInLF5DR0UVdrd+iGu600CrwawNxa1XsZAymBVSJk7au1fJiVP71hR3lEKz7jFxStuTm+jbsTlFffUQY10i8bDtQt/Er5HXzEQmx7HthXsqVT0WSZIS7xBGZs0zHlOlTg5Rhv1enVn34pgkTqHyIsuZTuLUvjPFHSX5fjkTJ6INgokT0RpR5r1oLkx1BVdSsDI9gH3FNhTu8+Cu9nNPvkPvS3b0T6f7MFHKd+smcQr+iOHuXSgq2oXu4R8TgsxF+M724OK0QZioBrvF+zFg9BmtaOL0G7QM/hx5MUKZhWdfSWi/6CZOm4xnUwudf6XtGFzQC7g3BmvLi3wOnQMlBt3OlPtDcJQUoqTtqk599hj+4fdQU1SKmu4h+LUPJF75AQP7ylDSmvyg4ijlLgbbatHsmUkoa/Ihxz2oshkkRkv/gLNiE4rtFzBlOkNDLHEqbBnE/cirYfK5X/tRGCpneolTGWy1bkwlPmpCCl0gewWtg36TxI2I8gETJ6I18RT3h4+JIMQkSA09HHebaKwr0DEim3IFwXtT+HboD+javYODjl8wOU2cgrcxYJdJSCEqukexmKJcxbrjiUWvm9Tyv+A5/g76hqbwMBoMP8Pygg+XHK+gsPIQBiYzfQBuATY1X8Yd9ftCDzh9EzsP7sdvQ4Pxi1HXNYDhse8xJx8wHUqcbNhSfgBu3y/xAbdI/IY6X0Ojdpa2Dcjy8hJ9qOw7GJzVPNg4tD+rUWL/BBPah3urtFOH64xrUwI30d+8HdsdnybMdhhEYPbvGDjchLaB7/XrOrlN/QdRXvI6zt6IPe9JWf43BuU27T5jcOczUSxxKth0EJ476t+E7/jv29mMg78Nz+JXWNeNS8NjuDkXENsaueCw5WU0u/+JB3HJn0gYh7pQ2ziQ/Pw+IspLTJyI1sQK/N42FJtddf91BB2bRUNeWI2W95xwOsXS149L3q8xHmq06UVidSCszHlxuKEBDamWxnMYTxxUr/yMUdfrqKh4Ha7Rn/XLYfA+pobPo6ulMfZdTUfg8oxi+mEG6Uo0cdqErWWlKCyrRn3DXlRX7oLjwg0sLN+IJlYFtjJU1zswIAPzpTE4D5zHxKLYjiu/w+H2TvTI86fLgRaHC5d98wl3LzYeq8tL2GMs+P4Ml+MAWjpOwdnTgZZmcVwvfxfrRpwkiIXRD2CvqITd9Tf97pnBB5ge9YjvbdaUv2Y4XB6MTj8wOVbqNjWiru61WFm7PA7/crqdTmOJk21rGbYWyrLUgPrq7ahx/AHjC7/EEitRFsuqX8OBgSmRVj3EmPMY3BP3sTj1BVyHHejokXX1u2hvOWqyX4go3zBxIlrP1BnDdg9gjm3vCy83gfA6ZzI5BBl7IctL1kzGOBERCaxVidazxzfg/I0NBQ0e+CMvaSmBW/jm2zts5F8QTJyYOGWCiVMmmDgRkTnWqkTr2hKmB/ajeFNrwqxRsmvKABy1b274h3hSDBMnJk6ZYOKUCSZORGSOtSrReqc8wuTF49gden7Te+hqfwN1da+j4+wX8C1wRr0XCRMnJk6ZYOKUCSZORGSOtSoRUZ548QJh+QDRi7AXysRpK1oHf+Ld1QwwccpAdFbJAmxqHcR9FjQi0sFalYgoT7xQgfCCF02hacYTlxI0ee9GPkSpvFDlJWt34W1SnwUWv9iavFiIfIqISGKtSkSUJ2QwR5QulhciImuxViUiyhMMhCkTLC9ERNZirUpElCcYCFMmWF6IiKzFWpWIKE8wEKZMsLwQEVmLtSpRGmQAwoULFy5cuGzUhYjM8UwhIsoTDG4oEywvRETWYq1KRJQnGAhTJlheiIisxVqViChPMBCmTLC8EBFZi7UqEVGeYCBMmWB5ISKyFmtVIqI8wUCYMsHyQkRkLdaqRGtJ8WO4uwkNDbtQWWQLBTpysZVVo76hQbyuWep3orqmAS2dH2BgZBoBJfId9MJgIJyOFfhH3Ohqbw6dN/XV2/CK+xaeRd5N7QnmvCfiz7vEpfEcxpfkyadgafwcGvU+E11OwDv3JPzVa4DlJQ3KXYyc60Z7k10cr72oLtsL99Ry5E0zG6u8EJE51qpE64KCJz4XtsnEqXA/PHdXIq9rKQg+vIXPO16FrWAzqjq/gj/I7OlFkvNAOHgXo64WvOn5tyhtVnoM/+iHaHrTg7mMvliUef91uJoOw5N2QCn+JvAL/HMTuNpVI86VTdiRduKkodzHWPeO8MWMwiYMzKYKppcxO9CEQvnZglfgHH8UeX1t5aS8KIuY+fo8uloaRaC/C1WVNWhoOYnzw1N4mGV99GzKjVeqOnFpbAIzfj/8KZdfEEhcz6q2KYjAPT/m/vUFurZvFvusLoPESWMDlBciMsfEiWhdCGLe2xJqSG07+zGdIspT7g/BUSLvTm1BrXsSeikWbUy5SZxE4LgwA9+XH6G9ukSsI8tEI4lMYOYx4/sS7vZaFMkgcYcbU+l8cTCAhZnv8KXbgerQndhsgtlnWBw+gk1Z/55lTLnrQvu8YNMRDC+m+gZ1XTIQzjLwzgHLy0vwRwwdP4DOz29FExJl+Wf4Lh1Flc2G4oYPMOp/HHo9fdp9l8ZS3AavX1PrWbZN9zDcXibWke3xy//yQkTmmDgRrQu/YKTjJdGI2lDaNYqlyKu6lDvwNpeGG+h0A1HaEOQxt06k65C9BR3OPly4+gU+avqNWIcFidPSOPoaG9HS4UTfhS/w1UfN4SDRtLw+wnjfQdhbOuDs+wOufvV7NG3KNrhk4mRpeVHu44bzdbR5Z0WqnWgRvt6dsIn6q9h+AVPLmdx50uxn06UCrdr1W7pNTJyIyBwTJ6L14Ml36N1WKBrRUjR776TuJsXE6YUlj3nuqIGjVXecVJogMdPyujiMdiZOWbOyvCizA9i7Uxy/Ff3aSZn3orlQ/v5ytA76U9dhcUS5c+zH2YnFFH/zFIs3XGg8eR0PNB+ydpuYOBGROSZOROuADAD22EQjamvEwGzqsRyxrnqF2Nb7HTiU+MXBxCkTTJysKy9qV2Ibimrew7Be1zdlBgN7ikLr3NQ+jMXIy6ae3YK74QP4nhilNQqCd71o2/shfIGnkdckq7eJiRMRmWPiRLTmYuObCra5UgQQ0pJonPfCJj9b4sDgfHIHFdq4rAuE9TBxisfEKUazLwz3p1p+MjzOT6bwxZ8njbsnr/yAgTcPoX8qEHlBZfU2MXEiInNMnIjW3EOMdVWKBtRsfNNTBCY+gb3YBlv5QfRPPMqgOwxtBDIoy50XJXF6hBvOWpRX79VMA92Iw97/JJxPVgbCse+yle3Goa4eOJ3O6NJzrAHl8o5zwUvoGPkl8jerZ115kbMbDqG7pjTF3Z1YF2LbngHMWlI5BTDR14z9nhmdMUxWb5NB4rT0dzhf2obqerNpw/O/vBCROSZORGstjfFNyvIdjA8cQVXhNtidl+FbSGeWKNporAuE9bwoiZMQOedslW34yHDKaisDYblvy1HSehmzy4nfs4Tpgf0olpMYNHswazp9dvpyW14SROsxq2b7lOOa3sfONz+HP9tdktE2Gd1xUh8VsRmVLf+N4an7OkmclP/lhYjMMXEiWmPR8U0FJahueSfuyqLT2YOu9gZUFpej5mAPPJO8y/QiY+KUCaPE6SkCvg+xZ58bvgepQmlNIGwrS7jjkLzUV5eFu9AaBcKON8XrifeTFSxPnEONPP9z0PX2+SVOT3F/+BhK5O9PnC48W8s30Ve7B72+tEdLJch0mwwSJ+UhfK43sM/9TzxImaTkf3khInNMnIjWlAjuRk6EG3fD8U3PsHxvEkO9+1Bc9Ft0Xr6FgGH7reDJ5AW82VCPusriUCNuK6tGvbbRrq9GmW0TyuqOwf317RTfResNE6dM6CVOsrvrBRzuvoLpuIkG9Fh4B0F2GXv7fYwtxZ9sSmAcrpotItCuRvfoPcsvijy3xGllEu5a+TteRefQjwZ3ZDKxAr+3DSW1orwYzJhnKuNt0kmclEeY+PgddHt/SKOezP/yQkTmmDgRrakAfL3VovG0oaTjWupZn5Q5ePfLhn0LalzjJg35Isad28Vnf4OWwZ8jr2kEf8Z4/9uotG2F3X2TyVOeYOKUicTEaQUPfG407v9Tmt2brAyE/wPvmS8wp11t6BlEtbAVbEZVd/w021Z5PomT2nXMwrrkyU307Shaxayh2WxTQuIU/AU+dyv2D9xOMxHM//JCROaYOBGtpWc/oH/nFtF4pvH8JtF8R2ffM5u2XE7xu2OT+N7X0D9jNB7qkUiuXhHftXMV3WHoeWLilAlt4vQd7gy9i6qMujhZGAgneYoHoz2h7bFtP4Mbi2Z3v7KT+8RJjkM6g+2Fr8DhSXUnPBMKlsZOorSgDO3D9yKvZSLbbdIkThM/YKjzVZGk2FDSdhXzaX1H/pcXIjLHxIloDUUf0GirR/+02YQP2sbWJKi4P4gW+b2/cWL8sXGr/2zKjR3i+zJ67gqtGSZOmVDXW4iyXY1wfDyO21cdKEk7GM5dIKwsfIPjVZvFeb8bfROJ02xbJ7flRcHy1AXYS6ot6p6nUmcZzeaYr2ab1PJfjl32o/j4+wlcbasQ/69A2+DdNLrF5X95ISJzTJyI1oxoPNXxTaUnk/qzJ9PccSqoRq/PqAFV8OvIcWwWnzNNiPweNMjv29oLHy9irntMnDKhrlfTtVW5i8G0g+EcBcLRbdgKe/+kWEuM4r+OP46kE6SnJ3flRU4F/hU6a9+E2+rHIiyNoqvUZn5XPclqtylS/m11cPkehv5emb+KNvmw8bTuUuZ/eSEic0yciNaMOr6pAIXNXvMr4NExTqKxrTiNccNEawmTfbXic8Wwe2ZTNqrK3AB2y+8rcmLcukvGlCO5C4SljZo4xd+dTT8YzkUgvIxZT0t4Kul9A5iOm/hAdlF7H2+bdtlNX67Ki7wDcmJfF7zTi8nbuvIvXPzdN1jI8keod8HN93m81W9TpPzHrTeI+cF071Lmf3khInNMnIjWijKDgT1FouEswp6BGZPGL9JvX47RMLtarvwf+ms3mzTIkoLHY93YIhvvTANaWhNMnDKhnzilHwxbHQgrCM560FwskrbiFnhmEz8j7yh34HBW43r05aK8KIGb+PjwGQzpPXBWUOav4O2TqR7knYpmP2aQOFmzTXqJk5D2Xcr8Ly9EZI6JE9EaiY5vStntTnqKwO3P0CKvkqczS5Q6vmnzcYz8muqDakNvQ2lXtoEOPU/rJnEK/ojh7l0oKtqF7mGzsSTrLXESondvUwXDFgfCKz9gYN/W0DpbvbPJ+0yZhWeffG6RdWNYLC8vy5Pob34d3YOT8Pv9Ostt3HC3oTHpQtBj+IffQ01RKWq6h+A3nNXwCWYHGsPPN0o3ccp6mxIZJE6C4v8c+2UCk/IuZf6XFyIyx8SJaE1oHs5o2MgqCD68jZH+I6gussFWvh99o3dNglQFj8ed+I343sKWQdyPvKorOqPfK3COP4q8SOtZThOn4G0M2EvEOgpR0T2KxRRRZrQ7lVxMk6FlEQw3hcfmVbyHsbRnBJNX3C/CHrq4sAPdY/dNAt9E6phAvURQfU98d/EbBmNiIrNOys8UNmEg6Yq/luY36p5PAUz1N4W6XOne5VJ+xezgO6iyZZMgGrO0vIhkOTzTnPyNqRadRDU6y6d8P9VvzCT5EFazTYnks5OaS8VndbYv+p4NxfZPMKH7DLD8Ly9EZI6JE9FzE8TCsBP2uKfGi8XgKfP11dtQXt2Als4PMDB8E/5lkyAiRA08NqO2//9SBJoKlsZPo0IGAvs/hz+ziJTWiCwvVlLmvDicUO6SlsZzyePplJ8x6nodFRWvwzX6c3I5k8+hOdyo/33R5SD6kgLGJ5jzntD5bPzS2Dee4g6p8XeE/06WfRd2FJfHzrv63ajbfRzeuYD5+qP7Q37POTTqfSa6nBDf+URzd7kE1S3vwOl0xpauQ2iIPKy6oLAF3rSmSk+PdeVFcyfIdNEL5kXdN/oB7BWVsLv+lmKskYKV6UvYX74VNc5Rk2cVrXabIgzLqlo+RULUuwvFmgeJ19fVYfdhL+aUNMprHpUXIjLHxIloI5HdN+yyUa1F32SKznfLE3DvFp8rOQTvXbNp0Gm9kMESUbpYXoiIrMValWgjUceEpBrfpHZvMeyiROsVA2HKBMsLEZG1WKsSbRgKnvhc2CaCJZvdk9z9TglgduxTdNaUonj3GVwzmIGK1i8GwpQJlhciImuxViXKeyvwD56EvWEvqsvCA7Btmv74oaW+GmW2YlQ1deP817dTz8pH6xYDYcoEywsRkbVYqxIR5QkGwpQJlhciImuxViUiyhMMhCkTLC9ERNZirUpElCcYCFMmWF6IiKzFWpWIKE8wEKZMsLwQEVmLtSoRUZ5gIEyZYHkhIrIWa1UiojzBQJgywfJCRGQt1qpEaZABCBcuXLhw4bJRFyIyxzOFiChPMLihTLC8EBFZi7UqEVGeYCBMmWB5ISKyFmtVIqI8wUCYMsHyQkRkLdaqRER5goEwZYLlhYjIWqxVidaS4sdwdxMaGnahssgWCnTkYiurRn1Dg3hds9TvRHVNA1o6P8DAyDQCSuQ76IXBQFhagX/Eja725tB5UV+9Da+4b+FZ5N3UnmDOeyL+vEpcGs9hfEmeXAqWxs+hUe8z0eUEvHNPwl+9DrG8SCwvRGQd1qpE64KCJz4XtsnEqXA/PHdXIq9rKQg+vIXPO16FrWAzqjq/gj/I7OlF8twCYeU+xl37sG9gRpS6dDyGf/RDNL3pwVw6fxCch++yC47mVnT0ONHT0Yrmjt9jcPIXBCMfMSbOg8Av8M9N4GpXjTgXNmFH2oGwhviNY907whcrCpswMLsceUPPMmYHmlAoP1vwCpzjjyKvr285KS/KIma+Po+ulkaRCOxCVWUNGlpO4vzwFB6a1EdKYBojA71wNO1He9d7Ipk5gJau8/h6ZjFlOYv+Xai89ISToKYj6B24hqmHenWlFssLEVmHiRPRuhDEvLcl1NDadvZjOkWrrtwfgqNE3p3aglr3JMzCBto4nk/i9BQPRntQZTMLMGVAOo8Z35dwt9eiSAaJO9yYMolIlcBNuO0vocZ5HQvRQFt8l/8rdG7fjub+m2neTX2GxeEj2JRtICyC2yl3XTgQ3nQEw4upvkFdlwyE6+CeShU0rx+Wl5fgjxg6fgCdn9+KJknK8s/wXToqyosNxQ0fYNT/OPR6vMjxrSpBVedVzC6r+/opAhOfwF5Rj9OjP+skT/Lvvobr9GcY9y9p3le/bzNs5QfRP/FI528TsbwQ0eoxcSJaF37BSMdLopG1obRrFEuRV3Upd+BtLg034GkEqrRxPI/ESXlwHd0iIC1IFWAujaOvsREtHU70XfgCX33UHA4Szcqjcg+j3dUo3O6CL9S9SUvBks+F7YWv4vi1nxgIW8DS8qLcxw3n62jzzurcFVyEr3cnbKL+KrZfwNRy/NGLlqmSYxi+/zTyqiryt8Ut8CTexVH8GGzdjsqGTrjH7ias9wlmBxrFOgtg23EWE0/MSgzLCxGtHhMnovXgyXfo3VYoGtlSNHvvpA4amTi9sHKeOMnE5vRxdB56Rawr3QBTEySmLI8KVqbcqLUVYlvvdyLs1RE5D2y14ntWGAivlpXlRZkdwN6dxsdFmfeiuVDun3K0Dvo1dVgsqSrpuCb+l+yZKBc75PuOIdzXfv3iMNo3ye/UK1uZHhOWFyJaPSZOROuADEr22EQja2vEwGzqwcOxrnopAlDakHKbOMkueh/i+OVJTIQCRKsTp4AIoKvF95ahffhe5LVE9zDcXiY+U41eXyDymhEGwmasKy9qV2Ibimrew7BedzxlBgN7ikLr3NQ+HEuQlkbRVSrrqxTHSU2QEu9IKb/gRt8bKC+uxWHv7YRuybHuzQWFLfDOm42OY3khotVj4kS05jQBwDYXfCm7nCyJxntvqHtKQYkDg6bBAm0kuUyclIVvcOr4XzAbVANEixOnaGCdKilSk6si7DGdmIKBsBnryotmXxnubzXpjS8H0YtCqY5TNLmqRNfYw8iLZtSyUgDbngHMpi4sAssLEa0eEyeiNfcQY12VooE1G98UGUhdbMtgQDRtJNYFwgmUuxg8cjwyxiRHiVO021WqQDIWnMbdtdBlFAg/wg1nLcqr92qmgW7EYe9/Es4XKwPh2HfZynbjUFcPnE5ndOk51oDyUPLwEjpGfon8Te5ZV17kZAxD6K4pTXHHKdaFWJvIhLvhyd+eojw9uwX3jk3iM+kkzBErk3DXbhF/sw2O4fk0/oblhYhWj4kT0VpLY3yTsnwH4wNHUFW4DXbnZfgW9Gauoo3OukBYK4j5wVM4Ong3UvbUoM7axCk2Bia9xKmw2Yv5lNGwUSAsqGOlKtvwkeE02VYGwvJuSzlKWi9rZoxTLWF6YD+K5cQJzR7MPsdHCOSmvBiI1mPxs33GjnuK8hT923S7Hz/F/eFjKJGPZei+jgdp7VKWFyJaPSZORGss1pWlBNUt78RdeXQ65TNLGlBZXI6agz3wTPIu04ssF4GwMj+Io0cHNUlKbhKn2J2H9BKnlHevQowC4acI+D7Enn1u+B6kmqxfsy5bGarr1bsN+kt9dVm4i6xRIOx4U7yeeL9YwfLEOdTI83sNutY+v8RJTWTE7yxug9ev2e/PfkD/TnlnyLg8xZIrszuNQQTuzWJyyIWGkh1o7b+hmdLeDMsLEa0eEyeiNSUa85ET4YDDcHzTMyzfm8RQ7z4UF/0WnZdvpfecG/VBlQd3osxWjMq6etGgywdW7sUx92jo4bmhZ6HUfQBf4gzBtC5ZHggHZ+E9ciohQMvnxEl2Z72Aw91XMB0wK9Sada32DoLspvb2+xhLmGJdCYzDVSOSBls1ukfvPfeLHpaXFyNqtznbq+gc+lGkN1or8HvbUCy2Rf8uooKlsZMoDe1bo8RJwcrMl3CpF5MOvYbqPe+g/5r5Q3djWF6IaPWYOBGtKXWAs/FUvVHKHLz75eDrLahxjadInh5jYfwPcFSXoqjaAffXt+M/qzzClOcYahtacbBqcxpjSWi9sDYQXsas5ziORLvoqfI1cVrBA58bjfv/lGb3JisD4f/Ae+YLzMWdZ/K5R7WwZdSdzFrWlhcjateyrbC7DR5eHJyBp1nUXYl3oyTx3uXut/BGpRzjlM7YNkkd71mI4t1ncE33obuJWF6IaPWYOBGtpWg3ljSe36Sdfc9o2nKRFE30H0S5bSsaXNdDd5V0iUZ6rHuHWG8x7J5ZXtnME9YFwgqCs3/B8dN/0wnQcpM45XaM03e4M/QuqjLq4mRhIJxETu3eE9oe2/YzuLG4Nrd0rSsvRp5i8cYZbC98BQ5P6jvhyvK/8WV3Hcrt5zA6uyhqM3kn/Xt4Xf+N4TvfRSaHSLfMSbEZRtPbxywvRLR6TJyI1lA0mLTVo3/a7KqptjHWeRaOTJrcb6A4rSuWCh6PdWNLWo06rReWBcLyKv/xDzH6QC9Ay03iJD6Uo1n1ClG2qxGOj8dx+6oDJfLubdtVk6RLyl0gLKd2P161WZzXu9E3YfY8qtzJbeKkYHnqAuwl1Trd84ys4OH0t7h6oQ9Opwtuz3VMPVzRTA6R2SxysbuYm7Gj76bJpBIsL0S0ekyciNaMaFzV8U2lJ5P6uyfT3HFKehZO5MpvJlcs/R40/MaJ8cemEQOtE1YFwjLgfKWsGvU6g9obGupRV1ks1mVDUeWuyGsH0Tf+KPLXiTRBYqrEKTrldDoPwE0naVPXq+m6KqdVb6sQf1+BtqQuiIlyFAhHt2Er7P2TYi0xiv86/jhitl3WyV3iFBkfWfsm3BY8FiF6ASnxQbbBRcxNfo8f7i3rryOajJuUvRCWFyJaPSZORGsm9gBH825JQnSMk2iMK05jXJtoRZ9pUoJ9aXa9Ux6M409XpuIaalrfchcIa2WSvEhpJk7R8p6iW2r0WUCpHpKrUtcbn4gp81fRVmJLowtWLgJhOW6sJTyV9L4BTK9of6WcBOF9vG3aJdc6uSov8g7JiX1d8E4vJv+WlX/h4u++wULaP1LBE58L2+SdH8cQ7kf/blGUl53hmen0xkZJ2sQp7WPI8kJE2WPiRLRWlBkM7CkSDWs6D32M3VFKvjqqBh7pNOiUz/I7cRLldOIsdthSPKtnaRRdpTbYdpzFhO4Mk1r6gXDozuxgOl2wrA6E5bgxD5qLRRBe3BJ5mLCWvGPcgcOGd9usl4vyogRu4uPDZzBkMCGDMn8Fb5+Mf5C3svC/OFmzFeXNn2JqOfGAPMK48xUU2PaK/ar5q+gdSrnPK9E19jDyRox2GnPtQ3f1sbwQ0eoxcSJaI7FG3+zq+lMEbn+GFnlVVHfmKk2DvnsgfqYm2lByEQgny1XiJKjdkkqOYfh+YndS9VlA6XSbkowCYSF6dzbVd1kcCK/8gIF9W0PrbPXOirA3gTILz749adxJs47l5WV5Ev3Nr6N7cBJ+v19nuY0b7jY0xl0I0uy7pEltFKxMD2BfcRn2DfwQfWhu2K+Y6KtDceUetLr+V2eiG82zo9KavpvlhYhWj4kT0ZrQNPqGjbCC4MPbGOk/guoiG2zl+9E3eje5gUUA487KUINe5BzXeV9H0I+bN/3pfZbWjeeSOAVvY8BeItZViIruUSymjkaFZcwONIXH3lW8hzGT8XXyjoXbvg1VnVcxu6yW+8iYmaptxlNaJ1HH/OkleOp7YpuK3zAYhxO50yE/U9gkAnq9uwIqzW8seAXOpPFeAUz1N4W6XOnetVB+xezgO6iypeq2ZT1Ly0vwRwx1vhp5qGuqJTkxUR5cR/f27Wju1xxbZQn+8U/h2F6N1oHv9Y+5WOfw6W70DfowF9DWVit4OPUXdMgJFYp2oXs4nckpWF6IaPWYOBE9N0EsDDthb9A+VV4sBk+hr6/ehvLqBrR0foCB4ZvwR4PMRLEroeklTrLv/ClUdsV3p6H1Tx7j3HiCOe+JpDIYWxImh5DPoTncqPM57ZJiQongPHyXXXA0t6Kjx4mejlY0O1y47JtPo/wab2tj37go06J8j7uwo7g8dl7V70bd7uPwzgVMfqdYGs9Fxg/K7zmHRr3PRJcT4jufaO4el6C65R04Qw9qjSxdh9AQmmxDBtwJkx/kmHXl5YlIBBrTSJrkohfsy8R4DP1draH6L7zvmuHovYiRGZ1xUlqhBOsLuLV/W1eD6oZ2ON1fYNwvj3gqLC9EZB0mTkR5LzbGKa1JJuREEr9tRv9tpk35RgZTROlieSEishZrVaKNQB07YvYckFB3Gzva9PrU07rHQJgywfJCRGQt1qpEG4QcO9Lf/BIKK9vw0de348cMKIuY+dqN9t1NcF67w6QpTzEQpkywvBARWYu1KtFGEhk70l5XDltRJepkv/r6GlRW2dHh/gYzgTQejEvrFgNhygTLCxGRtVirEhHlCQbClAmWFyIia7FWJSLKEwyEKRMsL0RE1mKtSkSUJxgIUyZYXoiIrMValYgoTzAQpkywvBARWYu1KhFRnmAgTJlgeSEishZrVSKiPMFAmDLB8kJEZC3WqkRpkAEIFy5cuHDhslEXIjLHM4WIKE8wuKFMsLwQEVmLtSoRUZ5gIEyZYHkhIrIWa1UiojzBQJgywfJCRGQt1qpERHmCgTBlguWFiMharFWJnquneHDjI7TaG9DQsIpl/8fwLSmR76QXBQNhygTLCxGRtVirEj1PyjyGHdtgK9+PD6/ewNTcPQSCsQRImR3AHpuc4agE9oHbCEZeF+8gGLiHucmv0NuwFQWlJzHGxOmFk5tA+DEWfH+Gy3EALR2n4OzpQEtzJ84OTuKBpmxmTFnEzMhF9Krf29WOpoZmOHov4trUfU3ZplxheSEishYTJ6LnSLk/BMe2VnhmlyOvaClYGjuJUhHsFNgaMTD7JPK6Vvgzv9kzgFnmTS8cywNh5REm3G+gpOYMRhceR14Ugj9iqLMWFc0XMBF4GnkxA+Lvh10uXBy/g2VtOQ1976uw2V5Cc/9NBFiGc4rlhYjIWkyciJ6bp7g//A5ec09iJfJKvAB8vdWhYKdgmwu+J/pRwrMpN6rbh7EY+T+9OKwNhJ/iwWgPqgp3otenU5qW/one7SWoOv4NFjIKWINYGHSgvNKODvco/Al3IaJ3VW270Dfxa+RVygWWFyIiazFxInpeZDe9I8fguaufNkGZwcCeIhHs2FDaNYqlyMvx5B2nHtS5b+FZ5BV6cVgaCK9Mwl27JUWSHknkbXvhntIvjfruYbi9LHwBoKBO/G3C3dXFYbRvku9twg6W45xieSEishYTJ6LnRLk/jONHBg2vxirzXjQXygChFM3eOyJF0vNMxBGncGT4XuT/9CKxLhBW8MTnwjbxfZsM717KsnYEmwoKsa33O+h1HNUnJ0A5B3v5VlQf/hwzKwl3ENIq52QFlhciImsxcSJ6LhSszAzjs/FfDBr+dMY3SSvwj/wFI36Du1a0oVkXCD/B7EAjbCmD3FiwbLNsTF3sO1OXc7ICywsRkbWYOBGtC8uYcteFAp1U45voxWZdIKx2j0rd/UmOp9shy+SmIxhetKKT1JIo53tFAG5DiWMI91MV86VJeJwdaAlN3b8LlaVHxTY8RXDhO/H6UTi6etBzrBm77Z1wX5+NTCrwDMtz19Hf3YnOHmfs/a9vG0ws8BSBmW9w3nkSTven8Hg+Q3/fGfT2f4GhT0/grYszInTPXy9UecEiJj3vo6OlUZSXetRVVqFd3pkPzsPnOQOH4104e46iaffr6HBfx9xyePuU5Vlc7+9BR6ecIVB9/xvM6E5ysbHLCxGZY+JEtB4od+BtLhWBiQgQOq5x4gfSZVkgHC1vaQbChS3wzq9+QujQrJIlNtiqejD6wGT2NWUZD3+axdSQEzVycoBNh3H11v/A5foKs5GgV15wmB1oQqHtVRy/dgeLE3/C6Y//joXoBAOR9wsq0DZ4NyGolZMdOLGzzYu7iRMSLH4L5/bivB9T80KVF5k0P/wZc1NfwVmzRWxrGdqvjmPY9Xt8Oftr5NgrCM5ehL1wc2gSi/nFm/jD6T/gRnSGQPV9UQ+3XcV8XLHY+OWFiMwxcSJaDxavoUMECOzHT6lYFgg/uwX3jk3pB8J6g/bTpn0G2TZUtvZjXDuVtRl1WzfVwH7InfTgZ3UMjO23b6L9xF8wazArW1L3sWc/oH/ny+G7EklWcNdzEK8ycQrLp/ISvXtfgl12B84mzgCoJoG2Whxsfw+XEx8NoU7Sk9g18AUoL0RkjokT0ZrT9uOvR/90JkECvUjyLhBemcagywmnUyxdb2F3tR3v9v8vph5mMEYvuq1F2DOg0xUqOutaJbrGHkZe1FDfT3xodOj1zdje+0/dGSyfTX2CJiZOYflUXjTdnvXHWqndDo1mL1XfTyhPL0B5ISJzTJyI1txjTPfXwyYDjmzHN8mn7n99Hl0Hd6LMVozKuvrQuJCqyr04Fnk2StD/FTrrPoAvi+dT0vqQn3cQYpTATbjtW1FQ/Bqc1+4grc5c0W012AY1MTLqHqa+nzjuJnpnYRvsPX/EsG8GCwHN3wd/xUPt//PQC1leoomT0baqiZHR3X31/bL4u0svQHkhInNMnIjW2qrGNz3Gwvgf4KguRVG1I3kQvPIIU55jqG1oxcGqzSmmEqZ8YFkgvEZjVsSKsSK+szb0QNNaOG/c1wlcE6SbOBlNSGD4voLlqQuwF8susjLYl8smlNW8ic6+P2Pcv2S+bevcC1le0k6cEhKjKKP3N355ISJzTJyI1trSKLpKZWNs0BXJiEiKJvoPoty2FQ2u60lP3I9S7mOse4f4/mLYPbNs3POYZYFwNDhMMxC2bJY0IZoIFcC24ywmzO6w5ixxkhQEF3y44u7GwZqy8F1fdSl+A+6JR3l9vryQ5SVniZO0scsLEZlj4kS0pjTjmwqq0esLRF43IZMm9xsoLtiMqu7reJCytVbweKwbWyzqPkNrx7pAODYOxPyBpqJs7nBjKu04OIjA3C3c/GEhMkV4IjUwlWU+jTKZs8QpiOVl7V0ROSnBPGYmRnDJ2YhyeZej5BiG7+dv39YXsrzkLHHa+OWFiMwxcSJaU+qDJUWjmzh43dBTLN44g+1yprDtZ3BjMY2G2u9Bw2+cGH/M66H5zLpAOJawFzZ7E6ZdVgUx721BYcqHniZSsCS+V5ZNGXju986JVxJpA2Gj4FUjV4mTeP3wAaPfvoxZTwuKjSacyBMvZHnJVeL0ApQXIjLHxIloLUXHDqQKSBKsTMJdK59TUoJ9aXa9Ux6M409XpkTzTvnMukBYeHITfTs2p5iQ5CHGuipRYNuFvolfI6+Zid2ZMJy1TFPmk6Z81pPDxKl9a4o7BKG/Y+IUlS/lJYeJ00YvL0RkjokT0VrKeHyTpmufUaBIG5algbC8QzDoQEnBNjiG55PKXvjho4U6DwIVgj9iuHsXiop2oXv4R/FNKlE+J85iR3Eldrd+iGv+5Kn11YeaFqTVzVTIZeK0aQtq3ZPQm+w69Hyo0nYMLlgxycHaWDflBY/hH34PNUWlqOke0ozHzEF5yWXitMHLCxGZY+JEtGZWcH/kJCpCV1uNGvFEmiu0uwcwZxpE0EZibSAsRMbKlVS9g8HZX2PBsEiMhjqrUWL/BBOB5CvssWmnxZI0nkUGyb9DZ99V+OYW45Kq4MNb+LzjVdgKShIC6BSefIfebYViXfpjANUH4BrN5Gb4figQtmFL+QG4fb9otlMI/f7X0Djwg26QnC/WS3nRTvCQnABbXF4QgK+3WqzHoMtg9A6WwXTkRu+/AOWFiMwxcSJ6bh5jxnMMDQ0N5su+9zGi2yUkgHFnZSgAKXKOxzfeRoJ+3LzpT++ztK5ZHgiHPMaC789wOQ6gpeMUnD0daGk+Atfl77BgOFPjzxh1vY6KitfhGv05OfjEMyz7/xmafazFrpbrOlRX29Hu/BhXxu8YTASgsTSOvkbNORFdDqJv/BGUOS8OJ70nlxPwzj0xfR9LY3AeOI+JxfuYuvI7HG7vRE/owasOtDhcuOybz/tzZt2UF7EnF0Y/gL2iEnbX37CQ9DELygseYbzvoOY4x5bGvnEsKf+B93CjzvuNOOz9DxSz91+A8kJE5pg4EeWV2B2n9BInRcSHp1Cp+4R8yje5CYRpo2J5ISKyFmtVorySzuxWGnIiid82o/8206aNgIEwZYLlhYjIWqxVifKNcheDbRUosO1G30SK5z6F+t3b0eadZReSDYKBMGWC5YWIyFqsVYnykBK4if7ml1BY2YaPvr6NgPbOk7KIma/daN/dBOe1O0yaNhAGwpQJlhciImuxViXKV8F5+C670F5XDltRJerkQOb6GlRW2dHh/gYzerNbUV5jIEyZYHkhIrIWa1UiojzBQJgywfJCRGQt1qpERHmCgTBlguWFiMharFWJiPIEA2HKBMsLEZG1WKsSEeUJBsKUCZYXIiJrsVYlIsoTDIQpEywvRETWYq1KRJQnGAhTJlheiIisxVqVKA0yAOHChQsXLlw26kJE5nimEBERERERmWDiREREREREZIKJExERERERkQkmTkRERERERCaYOBEREREREZlg4kRERERERGSCiRMREREREZEJJk5EREREREQmmDgRERERERGZYOJERERERERkgokTERERERGRCSZOREREREREJpg4ERERERERmWDiREREREREZIKJExERERERkQkmTkRERERERCaYOBEREREREZlg4kRERERERGSCiRMREREREZEJJk5EREREREQmmDgRERERERGZYOJERERERERkgokTERERERGRCSZOREREREREJpg4ERERERERmWDiREREREREZIKJExERERERkQkmTkRERERERCaYOBEREREREZlg4kRERERERGSCiRMREREREZEJJk5EREREREQmcp44KXNeHG5oQMOqloPoG38U+cbMKP4RnOtqR1Poe3ahcqcbU88ib5pSsDR5Gc6OFtjl39dVorR9GIuRd8lKK3g4/S28bifam15DTfVO1Mt9bm9Fl/sLjPuXxNGQFCxP/QEHnGNYCv1/EZOe99HR0hgqK/XV1XAM3wu9QwmWJuFxdqDFHjkXSo9ieDHtkyE7cevci+ptHblfJ1EuKIuY+dqNjuZWdPS8C4fjfXinHkXqpXyS0K7VV2Obg+3ahiTr39PvijbVHq5/y/bCPbUceXOjMIgdmhxwpowdwsxjVE38uTSOvka9z6hLIw57/5PDOmEF/hE3utqbw+ur24Gd7lvI/xZVxnGu6O+qr96GV9bx78px4iQq6LGTKC3YjMqW3+NL3zT8D5djhSp4GwP2EhQUFKCg4j2MLT6NvKEgGLiHualRXOrei+KCIuwZmMmuMAYDuOefxb+udmO7TaxnRyaJk9iS5Yf4ae4WrvW9LrajAJuee+L0FIGZ6xjoPYLmlg70OGUluA9Njl4MXJvCw2B2p6gydwXHHS54Rr7HjP8hliNfoyw/wI9T4xj69DSOXpjAk/DLOfQMy3PX4W6vRVHRb9HR/w0m/QEEI++GK8VRDHQfRvflW1hcHIerZovmOIi/fzgP/8wY3E1loiyVoZ2Jkz5lGQ9/msXUtT7Yi20o2HQk90lMaJ13MHPjYzQ9r3VShoJYGP0A9oqXsNs5DH+WdUo2lIW/wWWvRPnu0xj2P468ug4pP+Ha8VdRWPMBfIGnYru/wfGqzSgoOYbh+2q7lT9C7Zr/Nm64969Ru5ZabtunWJva1NSOLtmmNreh6/w3mBHHdkNR69/v/oCWElH/FtStMnGS++4bnO9qFUl3PeqqqlDd0Cr23deYergS+Uz6lMV/wLXzIAZmszmSIk70j0Zih1q0u7+Eb24xFjuI335vcggftbei+8oPCCzdRF9c7JDoKRbH3kOFjEcLSmAfuK2JQxKJdc9ehL1QfrYQFc5/xCVjuSNj41/gn5vA1a4a2Ao2YceGSJzUOO4fuNBSIfbp+v5dOU6cnmFx+Ag215zDhFrzxbmH4XYZ7KZIaJS7GGx7efU7cXEY7ZsyT5xUz6bc2PHcG5jH8A//Hqcv3oB/WbvR4vWhd1Fl24Ty5guYyKKyV39PaN8nLdl/b2bk73sPNUWFKLb/HjcWUgROyiNMuNtQV71NVBZ6x2EZU+46se1MnEw9uwX3jk3PN4lZi3XmhV8xc30ccyvPL1lJosxgYE9R5NxfbWClUrA883d8O5fqu55gdqAxdD6v74byKe4PH0NJQSW6xh6K/yt4MnEWO+SFuOJ2DC4Yh1drZnkG17+dg1kouzbtmrnctU+RtrPwVXQO/juakIXblyZU7O7F6Ho8nqul3IG3uVTsu9Wc33LfncK+zr/EkiSRnCz4PoNDXkQo3gfX6N0UyUYC5R5Gu6vF+Z/NNj3Gwo3fw15ciKKaU/hy9ldxVhowjR1iYuUujThCjSnXpO4Kx9ab1nmCkbkg5r0tKFznvyvHiZPcCe14zfBuURqJk/jLpbH3UN373erufuRh4qQsXEVr+XY0dJzHWOLV2Giwsxk7+m5mvG/0GyYbiqr2w/n593iQ86vOavJXAFtVD0YfpNEIhpJoeTWCidOqMHFaP+R+qV7r7ovqBYxS1HQPWXTHSZ6PTSbnorxiPITumlIR/Ly3fu84qUFnXNl9jHtTPtycCxgHbGtI1u/VabRVa9GupSM37dNTPBjtEW2ODSWOIdxP/Iqlf6J3+xYUN3sw+xzvuj4faqyVbeL0FIs33sdv27y4m7RvRIzmc4V79BQ3oX8qEHk9FfVYyOOa6TbJbTkTXl/JIXjvplFvBGfhbTWKHWJi5Y6J09rIj9+V48RJNp7t6PUZnUjpJE7itJz34sDhVVbseZc4qQXI6MRMb98ZCTesV3Hn3hymfOMYH7+JqR8fxK7A5ZSClekB7JNdtwq2wTE8n3bwodz1YF8hE6dVYeK0bsi6rXnLBtwnoWRjx8Y4F9Wym2Xb8fyFr9puyfPEyfL2KZQYbRZtxEvoGPkl8qKW2oZk1iblh1UmTvJC7d5G8bcGHdKid7RsKG69igWTnac8+BtOd3TgUJU4rzLcJmX+KtpC3Q7LsN87l+ZxEjGHKFO1Itli4rSeMXESZEXUkeKkSDP4FwX0yJFVVuz5eMfpwd/RZ38JxdWd8M4kVFjRiqoAhc1ezGdYy4cbpjVqLJU5ePeHj7ttx1lMPMlg45V5DDu2MXFaDSZO68SSKLN7Ydtw+0QNUjbIuZhvidPKJNy1qcZyxKzvxMnKbVLHW8tA1yhQV4M2gztSeW11iVPoAo8cz1O0C93DP+p0x9N0uzWrz2QXvdNOXP73/wufV5lsU6T9D8WMFacxvpRJ7BCOmZg4rWdMnARxsh45leIkSjNxkg1X0yera7TyMHFK6cl36N1WKPZddhNnrF3iFLvyIwdVbsu4C6bR1VQmTmlj4rT2lF8xN/I7NGy4CTPkZC//C1fD1o1zLuZR4qQsz2LEtS/tCR9enMRJO57OKFDXJFelJzGWSVC+7q0ucYolFEYxlBrwptq/UhAL11w4fnkGQfW8ymCb1B4n8s5WaddohhMyhMvA5hTlKvY7mTitDSZOaUgzcYrzGAu+y3C2vYWOHid6Olqwr+Ukzg+bzDCnTZyeymllz6Or/Qi6nD3i3/1o6jiHK755nSspYeYNjILgwne47NLMfpezmXo0yUeWszpl3TApP2PU9ToqKl6Ha/TnjBO2+AYsm8BK/vY/4ajbl1BpJiROwV8w8fn7cDjehbPnKJp2v44Od6pjET5+Hmc7WjtOib/pQMu+VLMFiUZWd6r6SPl0yLJ1CseaXoO9w42vZxYT9pV2GvV61FVWRbZ7Hj7PmQy2W5Lr/DNcjgNokdve1S7KoDgnvr6NgN4BsiyJWcHDqa9DMyztk2Ve7rPmI3Bd/g4Liedi3DqfIvjge3zuPApHVw96jjVjt70TbqPtDcnw+Ch3MXKuOzYNb2ga9CAC01+i19GOQw2vYHuLGzfuJZ7xWdYvIensDwVPJi/gTVlm6qtRJs9hWxmq69XpbMXSeE7/SqosG5ddcISmw5b1ljjeXecTylb8dLXq9PxK4P8w2HsM7YcaULW9FeduRLoipTVFfWQmLedJON2fwuP5DP19Z9Db/wWGPj2Bty5GLtw8mUD/m+q0xzIg2oSy6r2x3xX3WAmD8q8rg3IWmjK8X5wD/wX3wCV4LvWjz+lC/9VBfHq4Exczmb0rOvWw2C9FIsGNO07Jj8iQScvYxV44Whzi3HeKbXCgxdGLi2OzSV3M4h6ToU4HLrZ9evB3cLS3oaGqBi3nvsW9hL8z9ism+w+Ftq2+uixUv9rKqsPTMkeWxr7xpEAzvl1bwYOJz9Oou7Ry0+5l3T4ZUtsH2e4YB+rRwNnWmP1Mbxm1I1a2A3LdPlxxd4vzQ84WKOuvw+gM/d3Pq0qcEPwRw927UGR4x0kd1J963ynzgzjy1uXwGLKMEyfNOgpK0ey9k6Jc6hF1r8+FyhTlKnr8LUicYmWpHHWHxHGUdYK69BxBQ7n87TaUdFzLopzHJxhPA7fx9flTaJflJTTz8pvoOPsFfKkm3AqVsf9CW6s8b0+JMtgUak+Gp+7rx8G6bYVoy0PlPZO2XJDrviLaqZYDaBd/5+zpRHunrGse4VGqxMnK+n0V8ixxWsL0xW50e3/QHBRRWfi/QmdVCao6vzIe2KwW8ioH3u86IQKHnzWFQwQGE5/AXlwGu/um7gGPb2ASRf6+pDp+ph5ROEadO1Fi/8TaGerU29W2anSPiqAo8nImwg3TV/jZPy4avQ60q5W8UUASEatY0j1miTTHPNtKXJcmcbo6jmHX7zUz7YgyEpo6VFRSbVd1ujWKZGz6Eo50X8G09jiJxmKo81UUVr2LIZ2B6+Gp6icx5NwVma3nCm4N/zdcX2rLQGTK/RIHBue11ZGcfvNnzE19BWfNliy3WwjNGPQGSqrewaD27+7/Dc7t2/TLsxWJU2S9xcVvwO37RXMuieDL9zH2v3kR09qZ4qLrPIyrt/4HLtdXmI3OFLkskukm0SBWoG3wbuQ3aGVzfESSdO8uZnyX0CFnfJLrvXkZJ1yjuB+M9cePv2q5ivol0/0hqXVSGsdBCdyE275NbMNVzX5bwf3R09heItY5oT5PSGyvnK52ZhyejldFuZTlagyXT5zD6P2lWOChXlE3nS5eDuJ2YqfOoHBl8VtRxop1Gjj1HE8VfKT5GIFM9mtolq59aPPOaj4nqYPJs6xvTM8X8Vtmr6Jz+050xJUdsUmBH+Dt2IntccdNCD0mY1oELp2hAfKb2r24efk0XKPzotmIdIuKzuKXidiV/8zuOGVSd6ly1+5l2z4Z0wbdRuUgHFhvC32mOsXYbCPZ1FMWtQN4DP/oB2gQxyK+DIq/ffBPuI904tjrv0nx21crAF9vtfh+kbDXirhAb5ZQObnT0VOxspRx4qSNHbI5PuZi8U2quisiZeIUOQ9L3sblpBn/ZDmJjPEuboFnNpvjEUucqo450XXYHT8rsbbejLYNGis/4OIRJ7zT2osimhknh3SS41BbMYupISdq5AW/LNvyoP86XA2iLevwJpwnv8DnfhfvHGvQT5xyVb9nIa8SJ+X+EBwlm1G2+wxG4qYMVaeLTTHDnFrIDZMN9Tu2wt4/KQ5/vFgDk9gYyUrNg+biQt1+0eFt1n8vY7KxnfseQ737UFL5NvrHtclfZuTveeXl13Ds3DXMaRr0cIBWhmKjRs/0ypOJaGUpKxwrC7qaOJVgl92Bs76EkEEdE6Z3NSySiNrK6uEc+SmubISPny3lWKxo2djViENn/1/CVV21wTbqUrmK7ZaVlKcFxbqDmdXyrPPeqhOnAKb6m/TXq/yEEWc9ymwJ70XXWQP7ITd8CXdU1D70tj0DmI1/a5XHJ1LHiPU2HDwbuZOzCF/fXhTZXkbb1R+j35d9/ZLF/pDSTZyCM/A0i9+gd3dZvYiS9J7asIpy1dAGV+juiJz96ixqizajvO0L+LUbY1Qmnv2A/p0vGwQRK7jrOYhXs0qcVAl3iuNktl+fTfdj52aDfanMwrNvX3b1TcrzRQYCMrEuRY0oG7rfHpqUwCDxjpSBTbvsOOi6Ea47lr5DX20JbOUiMPGbTSieKMvEKeO6K7ftXtbtUwqh8hHqIm7U7miTq3TKboJV1VOraQdEAuv7QASzWwzLYGxChdwEl+rvk/tNf8IGsW8HT+GoNpiOxgJpblNOHpsQTz0fku+W6yxqjwHDxOk4drknRS2ZYDn8PKkCw+QiHbHz3HBWYrVtSJrpMNKe2cqx23ktfiIP9W9su9A38WvkxQSraMuVQPg5nDajRxRFZ05O3qc5q9+zkF+J0+wA9oQKavKVuOjgxW0u+PQqpnSCFHXcUHEbvAkNVrSBSWyM1IJmeAXkIca6KlFQ2AKv7lW7dCxhZvBc5Dbvuzi0uxZ73r2Aa0a3VNOgzF7CWyev40HSrpJd4WQ3wM2o6tZ7f5WilaU8jrlInAyC72hZ07mKG62QdfpNRyfhML7CFa1sdRs1tYIz6pOd/XZHGyujMr80iq5SW/LkISkDQTNq+RDbq3dlMbLOpLF30eNukECq56fe2IJVHR91/yWOpxOBXzC+scmufslyf0hpJU5q0mY0HlAdl5HYdSXWsCZusxIMim9NYFQmQtu4Gdt7/6lTdsWfTX2CppwkTpnu18jvte0U5UAvXZDrSTVRUQqpzhd1opsU3ZNi3ZN1gkq1DCSWX+Upgk8TfnNaYsc9k8Qp47orx+1eTtqn6KRERt28Itss90dWidNq6qlVtF/qbIGp9nW0/s1FwhGZ5KZAHBPdu/Kirr17BUeODuq3Q+luU/Tz8vjkOnFK4/hHz129xEkm4V04mRRrPITPVRfeV6uKr9I5z9U7qDYU7/9cc6FMM1wiqb1VLx6kGH8ePQ6ZtuWL8PXuFOtN1c1SPQ8S92kO6/cs5FdXPeURpq58BNeFMcMrd4ZBiNn7Ier2bEFtwpUCo8QpGmwZfm+s0cy4Ijai3oYt+A12O78x7j6ULTWBTHXVIWuaY56TxEmvEpNSBXNPEZj6K866Pk1+XlbKvwuLVra6Zdisgst2u2OVn2HFqTbkiWUzVSBoSu2SYVSxPoZ/7FO4zv4VU9orwmaNZMrzczXHR31fJ+BIlFX9kuX+kNKpk6LBmHH5U+ug+HKQIujVY1Qm1PXbtsHe80cM+2awENAEZ8Ff8VD7/xDzcyZGLf+Jn818v6r7wVbeiJ5Ph+GbmUcgehxF8BZ4pPl/BlKcL9H63+jiRUisC1hSUKyWAcsmI0gnoIrJtu5ak3ZPlXX7FLtLFh9ISvK9z9Hdug+Vcn9ktd2rqaeybQfUCytGxzDCrP7NmkhkQ93O5EPsjXqpzMDzVndyd89MtymafMrjs94TpyeY87rhndPWXLHnT6X97EpDaZ7n6jba9or9FWsFlMAtXDn7IS6M3U24+J7G92bZlsfuSqY6dsbnQc7q9yzk4eQQEbK/5Y9T8I0M4rLnEgY+bEVlqoo8nSAletCSp/jWT5xihcx4+9XPGFWIWYpMOSsfgLvd+S0WLS0v6nFJcdUha7GAP7vGSQj6cfOmP+GEz7bhSST7nN/BlO86Bi974BlwoaVSPvvD+O/WJnFSX09VrtTPJFRUKQJBU9FKM8PBuVlWtskyPT4G+8BMuvVLtvtDSuc3q59Jtf3qZ+LKX4b1jmGZULA8dQH20DPX5HbIZRPKat5EZ9+fMe5f0vnN6Z5rklr+Ez6b1X5Vu/ap2ykWWxlqDp5A3+Vx+LVjjDJhuG80XbtM2q9oHZF4V0D32K1GGoGPRnZ1V+x14+3OsPxlRC1f2bRPcjzal+iuqYL97HXMyqRfnOv3Jq/A5foadyY+igTOGdYXSTKtp7JtB2Jji1Ieb7P6N0vhcY4lqHJ4ki8MhSxj9rITp/WGR2S8TbHfal63yMTlBBrsLaFJfuInZghPcJBqspS06q5o3ZxeGVceXEe3HG9rq4Xzxv3M2ookaZ7nadSjyvID/Dj1HUYG/wyP54/4sGV76guyZsdNt13TjB9M1d6lPA9yVL9nIe8SJ2X5DsY9p9FctQ3V7WfhHbuFuXsBBHUPlobZ+yHqQUveHv3ESfP54jq0J56gccv7uDD+yypPFi3Nui2/MxQ7LvrdBlYj1gUn68Rs8WucOJV4FT3bhidCWYJ/3ANn8ysoq27HWe8YpubuIRBcSP13wpokTtHKy4biukPo0S1z6vIpxrVXt9S/TXkuGIg2Fmk0LFpZVbYaWR8fdf+l1zhnXL9kuz+kNOqkWEP+G9S1n9Q5tprlwrim60eGgWvKMqFEZ+s6WBOesS1U78hFd/CxybkWRy3/CZ/Ner/KWRG/gLvrAGpCM/up2yrOk2wnKzDcN5o62KT9ih3HhHKo/s402z9zaQZUEdnVXZrf/dzbPcmC9in4ANNjf8WFvv+Cs9cNz0h41sxocFdyAiMG52RKWddT2bZfsX2R8nib1b/ZWJ5Ef2jCGqNJc+RdvL/g+Om/6XdJy3ibxPGZOIsdGccOQQRue9AauttRgEL7H3DbIMiOnadp1DvROiqNOlb5CdeOy8l6jMehZSbTxClxG0Vi7x+Hx7kfVWU70X72c4xNzeFe4LH595odN912Lba9qdo78/MgB/V7FvIocRInof8bOHf/RiQKO9F97U78HQezIMTs/ZBYg5DeHSfN3RPLGj6VvPX4IyZv3sY93ZNcUxDTDY5CROIy8zkOV29FefMFg4KWyXHJwmoegCsrT99ZHEzqW5ttwyME7+Ca8zUUi0qtujux62OKv4vILvhQZbnd0S5cmRz7CMNAMA3RsSVpNCxaWVW2Eas6Pur7Zo1zlvVLtvtDSqNOinaJyjjgUctdmuXDsEwEsbys3ROyXprHzMQILjkbUS63LWliCvNzJkYt/wmfzWa/Bh9jOa5siIBp4d+YGPkMThHg2UTjmtVkBSn2zYt5xym37d7atU+x45nNQ+VXV09l236t0R2n0EyBr2GfwSzEYfI37U0xyUJkmv+CYlTW1YdfM3oUgyra00bEDkaz9+mJ/v7U+yk3iZMoV4MOlISC+wuY0k6KIB+b8cfrCd1G05HmeR793do7To/hv3YGu4ttsFX34Fpct9I0vtesLOm2axbcccpV/Z6F/EmcosG2wUDlxIMVvIcffrgndm1EGkFKbHBoumOccvjAPHXApzzZkvpjS7ECblppxlELpvw7o3EfseOS/vdmQu0XLStNnRmzUlHuY+zUu/DcTZyrJtuGZwV+b1vo9q9tuytphpjkv3uMez9M457mBF6TxClaVtMcw6JlGAimIdrP3KyxSJBVZSut9vio75sEDNnWL9nuD8ngN8dNuBBNINIYoxVHLXdpbpdRmRDbePiAURCpzuqYuG0GZVauI+lB5mr5T/hsxvtV/t4uHDDq1qfOTJhNPW14vmjunqf83lg7kRTsqWXAsgTAqL6R+zl58HR2dVcO271oeRDf/dzbJzUJybBNClltPZVtOxAb45Ty7ptZ/ZsJeffkxAF0Jky9H7aEqYufYDhuVlIDatnPaJsULE+cC0+Hnclxiv7+1GXG+sRJ3nWT4+pEHV68HwPTCS2LqN9Pvn0l8yTd8NxMoLYfmjFOiv9z7JfbozvRQuL3iu2/N40f7mmSK7OyZNCuRcc4pZxIx+g8yGH9noW8SZxiV14NZqVJPFji/0eOaAqUwcGME5p6d0tms+o9uYm+HbLfavzgu0SK/2/4bCz9yjh2AotFtzBornYazW6iSxTAkXdQUbkHra7/1b/FHj0xytE66E97mzMTeWaAOKa2qm5cS6eiFVuyPOHGmy69Gb6ybHiid26Mbv0n/p34/5FTcWVobRKnWLeF1Ffe5ANRv8CY9kGvhoFgOmINdeE+D+4arvZfuPi7b2JTnWZZ2a7++Kjvp26cs69fstwfksFvjp+p7ldM9MnnhCVfzIkjr1x+pn1gqlruUjXqGkZlQm7j1hQP2Q79hhwkThnvV/l7j2Kr4RXHyP6wNHES1Cvgtnr0TydOCKBSZx3TOYZqGcirxEnIUbsXWmfO2qcgFkacqCl+Gc2f3hJ7JMHSP+CsKMzsToZq1fVUtu2AWLUakKZ6GL5Z/ZsuOTHVx+/gpN5zfiR5wePt99M7x9Syn/E2aWOHNCdZiP5+o3Y4zPLESQ3oxfc1e2aS9pmcrfXAYePtMZbi3NQIT8GvvfiuuVusO6FN4vfK/5/CkcR6PFVZUvdLUluuzsSZKuE1Og/kduSofs9CHiZOegdLNrInUFFUqBPYRKgH07Cil884cWG7Tb+AGyZOYt3hh+duMZ5eUrmPG673cDHxakMqoYZpKyp3vwVXYrchKVoI9SoP2e1oCN01pSiqeQ/DiTP8LP0/nD16KfmBnCHqVVRxsu0bSP7Map/jFEdUgMPvoUYct+KGDzCaNBORltjP01fQfcRou7NseEy6vCn3h9FRUSQqGqMGL1Y2nm/iJKizK6Z4ELKy+He4Eo91qkAwHZEHOtoMB7nK87EHb2unXs66sl3t8VH3X+rGeVX1Szb7Q1Iv1MR135JX898Xn41dWQs/u2ZriiBBztb0exy9+IMmKFfLnVG5SmBUJkLHxThpC03TXtqOwbgLH48x3V8vjknCgGTdq6tq+dcp3xnt18jvNazf5YWmVpS2Xo1PXtOR8nxRJ8/YYjhJT3gA/ZbkbjqSWu4tS5zE5kaeVxTf3ewhxk52JU1XnX3dlaN2T8pZ+6TWBXp3Z5YwPbAfxXp3BdKx6npqFe2A+JUL17pFIqEfu8h9FrtLk7oeTE0Ozm/Dnu6/Ysrvhz9pCT9Iu7nxYnrjztSyn802Kb9idvAd8ZtFOTCNHTR3hg3b4TBrE6dImZJdyFqTHyAuL2re9RzAy9mM89acm8aJfmT677iH7Jp0s5VxZccOFIl9ZXniJCgL3+B4lagLmz2Y1bsoEn3GVeI+zWH9noU1TZyU5X/hgnwyuTyIFScxct/weqr4sDoFd+IsciJJeDCOC+f+jL++/1vRyMod+6s4US6IQEJzFyZ0MMXfvvvf+Oj0nxL6Tsvv+Ba9tTvh8NzSuf0c65+p3/f5MRZE4GIvLoP97LdxTzWXg83Hzp0wvkJjSCY/wzjdeQ6Dvrn4aRaD9zH1+fFQpaGbGEUrYaOTWjb2l3G84/cY0j4LSlnGgu8zOKpKUNk6gEmd/uWxisXgxMvYMyzPXYe7vVY0drVod38J39yiZl+J9+9NYtj9Lhyu4fin78cxmb442vUncXYZNQCwwbb9DG4san5z8B7GL5zHF389jR22SPAorzCLRj3WMGj67upewTHrN5/tdkcEf8aNs6+LBv91nL2hfSCyHPw5inOHzyQ/rV6dzjfLZ6xISuAHeDvk0/CP4tLEL5r1ruDB95/i+Kn/ib9arK7T4I5O9DlJSdu0yuMT3X+vwBl6CKyBVdYvGe+PELWrmybgkQ3XidMJV47FNix8i7OhB3/+PuEJ8Uvwj7lx+GTi96vlrhAVzn/o3KFNYFQmQvWmDVvKD8Dt0/4uIZTYvIbGAW3CJontVad9jjaQMsk5jRNJVxrV8q9fvtPfr2ogsQXlzZ/A90C7RbIu/QqdtS3ZBcXRfdOEAd2n/IsyOjmA1qpaOC59jwfR4yDLzve45KhFlUF9Gi33FadTj+3IhHqVWxMwycD9xInhhKu1q627ctHuSblqn57iwWgPtlccRL9mQpPQhDADR7C96hAGJhMnOknXatuRVbYD6l2YksR2QGzX9BdwdhzCG+Wy/i1Dk3sMM/55PMxoFrLYXZ5wXGG8pEpMYmQdcRF2WfYLdqB7LJtZ5uRv+xLvy/EturGDWEdgDr7BD9BUUYtj/+0MHR/j7VOwNH4aFaHfUQL7wO0UZVe7/Xp1rHpBRd4JdCRPxS7b59mr6KwqNki6zKiJRA3ePf97nP5D4lgzUT/ecKF2+1F4puLLtHohLnl2P/E34xdx7os/4/0dmyMJ2a8ilnTiorZrXdZtuRSpi6u2JdcZoq6/4uxE+xsvie8WCXHTx7gxcwc/PVwWf5XD+j0LzzdxUv4D7+HGhAGCBoveIEHlV8yNfYZex340Od5H/6XP0N/7Lrrco6HGUwl8j4sde1BevhMtibf5ZQCgdjkJzsN35TP8aXAEN8ZHMfSpCyddFzEyI3t0askT6Rwa9bbvsBdzcR8WB+/hFIb7nWhv2o/2rh70dLyF1q4LuD73a8L3pi9UqV9xo6tF3W/1qKuuRUO7E+4r/zScglFZ+Btc9kpU2D/AqG43uMj2nj8Zmpoz/N12sV9d8IzeDs0wpEv5GaOu11FR8Tpcoz9n/buSreDh9LfwipO0vakOVZU1qJfbZG9B54d/SvGw30cY7zsY2f74JTTdqGGZa8Rh738i2y+TtzFc7D2CpqYj6O3/DJf6e9HZdT78PA4RVE9ePI668m2oafkwMpgyRdkIld3H4elQ9d4PlR0rtlsl9t3U1+h3OsT2t6PLeQodrW+jq/963FP3xQajrzHx++RyIuF5E2lSApgd88DlaIa9pQM9TpHctp/C+eHwDFUhhus8iD6RyChzXhxOek8u2m3K4vikqmuMBiCvpn6R0tkfieQ6r18Q53cTWjq60NF+EheNgjd5wWT4ApztYvva3w1Nq9vaehL912cRu5ERmYZX73dH9nmcpONTj911u1Gv7qOlMTgPnMfEolj3ld/hcHtneAbHLgdaRF1x2TdvcF7KY3Yd/V2t2Cf2xXsdh3H84veaxl2n/O+uQ129zjamtV/lnToXDrhvYnHxFq64OtDecQpOZw+62tvgcP0ZPm3CmQ7DsiuWpPpfbuY0RgZ64QjV/++J9cpy1IuBkemki3HG5V5/muRMKcuzuN4v6vZ9Leh4TwQjxz/TJBqrrbsiXxOSm3Yv+r2Wt08iARj7g6Y9FYusUwauY0YnEctMNu2Ile2ASCRmvsH5yDnXI8t+xztwXf4OC49vwf3KNlTXh/+2peN9eCbN0xtV7I682WJ09yXCLAY0qptTCU0nPwJPQuxQX10Gm9iesrpjcIeeVyST2z/gbde3cedXqnMxvGjqpFR1QmiJHJdoomtDUfVB0SZrZ5p8F+0NVSgK7S+jRNiMTCTUrmviXJGznl68hMGRv2N87Ct82uuEK0WZlvXD2MVwXeXoPY9Ll86jt/NUbD9NfoaOupdQXtMa6/FkSVsepgRu42t5bsv6Sc7K2dWJzlAd/UgkarEJRWR97/RMiuOVg/p9Fda4qx4RERERkUWCAdyT3QfloyQiLxFZhYkTERERERGRCSZOREREREREJpg4ERERERERmWDiREREREREZIKJExERERERkQkmTkRERERERCaYOBEREREREZlg4kRERERERGSCiRMREREREZEJJk5EREREREQmmDgRERERERGZYOJERERERERkgokTERERERGRCSZOREREREREJpg4ERERERERmWDiREREREREZIKJExERERERkQkmTkRERERERCaYOBEREREREZlg4kRERERERJQS8P8BgSu65Yn4WggAAAAASUVORK5CYII=)"
      ],
      "metadata": {
        "id": "WMkn_0bbuJ9S"
      }
    },
    {
      "cell_type": "markdown",
      "source": [
        "###Communication channel characteristics"
      ],
      "metadata": {
        "id": "LRcQJt2BNcI5"
      }
    },
    {
      "cell_type": "code",
      "source": [
        "# If the values for 24GHz are used,\n",
        "τe = 1.5e-6 # [s]\n",
        "BD = 1.11e+3 # [Hz]\n",
        "BC = 410e+3 # [Hz]\n",
        "TC = 0.3e-3 # [s]\n",
        "\n",
        "print('TG < τe :', TG < τe)\n",
        "print('BD << delta_f: ', BD < delta_f)\n",
        "print('1/TC < delta_f: ', (1/TC) <  delta_f)"
      ],
      "metadata": {
        "colab": {
          "base_uri": "https://localhost:8080/"
        },
        "id": "7DYsFrIwvX6L",
        "outputId": "fa3822fe-1ace-43c2-d4d8-454cd7fc4620"
      },
      "execution_count": null,
      "outputs": [
        {
          "output_type": "stream",
          "name": "stdout",
          "text": [
            "TG < τe : True\n",
            "BD << delta_f:  True\n",
            "1/TC < delta_f:  True\n"
          ]
        }
      ]
    },
    {
      "cell_type": "code",
      "source": [
        "# Therefore, the communication requirements are also met by\n",
        "# the 'Suggested Parameters' in Figure 1"
      ],
      "metadata": {
        "id": "x8agkhd7vRsI"
      },
      "execution_count": null,
      "outputs": []
    },
    {
      "cell_type": "markdown",
      "source": [
        "##Technical and Regulation requirements"
      ],
      "metadata": {
        "id": "R3ZaGLpuyO3A"
      }
    },
    {
      "cell_type": "markdown",
      "source": [
        "###Regulations"
      ],
      "metadata": {
        "id": "e8AzHOMtMtxx"
      }
    },
    {
      "cell_type": "code",
      "source": [
        "# Regulation differs from region to region. In Germany, a\n",
        "# bandwidth of 250MHz is available for this kind of application [111],\n",
        "# which is much larger than the OFDM radar bandwidth of 93.09MHz,\n",
        "# with a maximum EIRP (= PTx * GTx) of 20 dBm (100 milliwatts), which shall be used\n",
        "# for Pmax.\n",
        "Pmax = 1e-3 * 10**(20/10) # [W]\n",
        "print(Pmax, '[W]')\n",
        "\n",
        "# from the Figure 1, 'radar specfication':\n",
        "GRx = 10*np.log10(15.6/10)"
      ],
      "metadata": {
        "colab": {
          "base_uri": "https://localhost:8080/"
        },
        "id": "uEgEuqLgycGH",
        "outputId": "ce4d690e-1e31-40b3-d883-c737aa4fb9bd"
      },
      "execution_count": null,
      "outputs": [
        {
          "output_type": "stream",
          "name": "stdout",
          "text": [
            "0.1 [W]\n"
          ]
        }
      ]
    },
    {
      "cell_type": "markdown",
      "source": [
        "###Radar and Communication Ranges"
      ],
      "metadata": {
        "id": "ZrAF3iznyVsQ"
      }
    },
    {
      "cell_type": "markdown",
      "source": [
        "####Radar range"
      ],
      "metadata": {
        "id": "MGGM7QY066l3"
      }
    },
    {
      "cell_type": "code",
      "source": [
        "# From the Figure 1 'Communication Specification'\n",
        "kB = 1.381e-23 # [J/K]\n",
        "NF_dB = 5 # [dB], NF_dB = 10 * log10(NF)\n",
        "NF = 10**(NF_dB/10)\n",
        "Tn = 293 # [K], room temperature (20 degree)"
      ],
      "metadata": {
        "id": "6iFkJgx5yr5Q"
      },
      "execution_count": null,
      "outputs": []
    },
    {
      "cell_type": "code",
      "source": [
        "# With the given noise figure and\n",
        "# bandwidth, the noise power is\n",
        "PN = kB * Tn * NF * N * delta_f # [W]\n",
        "print('Noise Power: ', PN, '[W] or ', 10*np.log10(PN/1e-3), '[dBm]')"
      ],
      "metadata": {
        "colab": {
          "base_uri": "https://localhost:8080/"
        },
        "id": "gy0UA1-TySbw",
        "outputId": "4c5da964-d9ef-4b41-80bb-cde274a6a3f1"
      },
      "execution_count": null,
      "outputs": [
        {
          "output_type": "stream",
          "name": "stdout",
          "text": [
            "Noise Power:  1.1910366862217449e-12 [W] or  -89.2407486120548 [dBm]\n"
          ]
        }
      ]
    },
    {
      "cell_type": "code",
      "source": [
        "# From the Figure 1 'Communication Specification'\n",
        "pFA = 0.1"
      ],
      "metadata": {
        "id": "u51_Cwchy4YY"
      },
      "execution_count": null,
      "outputs": []
    },
    {
      "cell_type": "code",
      "source": [
        "# SNRmin:\n",
        "SNRmin = abs(np.log(1- (1 - pFA)**(1/(N*M))))\n",
        "# The min PRx for detection and communication:\n",
        "PRx_min = PN * SNRmin\n",
        "print('min required PRx: ', PRx_min, '[W] or ', 10*np.log10(PRx_min/1e-3), '[dBm]')"
      ],
      "metadata": {
        "colab": {
          "base_uri": "https://localhost:8080/"
        },
        "id": "C9_xZSV_zJI_",
        "outputId": "ba924fc1-1ec9-48b1-a00e-975b9e3adaaa"
      },
      "execution_count": null,
      "outputs": [
        {
          "output_type": "stream",
          "name": "stdout",
          "text": [
            "min required PRx:  1.754041726155832e-11 [W] or  -77.55960079599576 [dBm]\n"
          ]
        }
      ]
    },
    {
      "cell_type": "code",
      "source": [
        "# assume target_cross_section:\n",
        "target_cross_section = 10 # [m^2]\n",
        "\n",
        "# Thus, the max d_max of the specified target:\n",
        "dmax = ((Pmax * GRx * (c0**2) * target_cross_section * N * M) / (((4*np.pi)**3) * (fC**2) * PN * SNRmin))**(1/4)\n",
        "print('max detection range of a target with radar cross-section 10 m^2: ', dmax, ' [m]')"
      ],
      "metadata": {
        "colab": {
          "base_uri": "https://localhost:8080/"
        },
        "id": "iS_d6ZBh2oWH",
        "outputId": "79516e93-6f41-4bcd-be96-441bcba8d52e"
      },
      "execution_count": null,
      "outputs": [
        {
          "output_type": "stream",
          "name": "stdout",
          "text": [
            "max detection range of a target with radar cross-section 10 m^2:  218.33934708160774  [m]\n"
          ]
        }
      ]
    },
    {
      "cell_type": "code",
      "source": [
        "# Compare dmax above with the d_max in Figure 1 'Radar specifications': we need dmax >= d_max\n",
        "print('dmax computed > d_max required: ', dmax > d_max)"
      ],
      "metadata": {
        "colab": {
          "base_uri": "https://localhost:8080/"
        },
        "id": "wc19h7766e_g",
        "outputId": "3b671e60-1852-4ee3-a8ed-c8f5909d75bf"
      },
      "execution_count": null,
      "outputs": [
        {
          "output_type": "stream",
          "name": "stdout",
          "text": [
            "dmax computed > d_max required:  True\n"
          ]
        }
      ]
    },
    {
      "cell_type": "markdown",
      "source": [
        "####Communication range"
      ],
      "metadata": {
        "id": "qBED-bIR6_V2"
      }
    },
    {
      "cell_type": "code",
      "source": [
        "# From the Figure 1 'Communication Specification'\n",
        "dcomm = 400 # [m]"
      ],
      "metadata": {
        "id": "Zp8ynluA8K5t"
      },
      "execution_count": null,
      "outputs": []
    },
    {
      "cell_type": "code",
      "source": [
        "# Each sub-carrier: ES/N0\n",
        "Pcomm = Pmax * (c0**2) * GRx / (((4*np.pi)**2) * (fC**2) * (dcomm**2))\n",
        "ES_over_N0 = (Pcomm/ N) * T / (NF * kB * Tn)\n",
        "print('per sub-carrier, the modulation symbol energy per noise power: ', 10*np.log10(ES_over_N0), ' [dB]')"
      ],
      "metadata": {
        "colab": {
          "base_uri": "https://localhost:8080/"
        },
        "id": "PpXXnNpF7C1Y",
        "outputId": "f463f94d-1acd-41c4-fb4b-4b9367cf69e2"
      },
      "execution_count": null,
      "outputs": [
        {
          "output_type": "stream",
          "name": "stdout",
          "text": [
            "per sub-carrier, the modulation symbol energy per noise power:  0.011927700793955758  [dB]\n"
          ]
        }
      ]
    },
    {
      "cell_type": "code",
      "source": [
        "# If BPSK was used (every sub-carrier transports one bit), the gross bit\n",
        "# rate (not considering pilot symbols) would be\n",
        "Gross_bit_rate = N/(T+TG) # [bit / s = bps]\n",
        "print(Gross_bit_rate / 1e+6, '[Mbps]')\n",
        "# Compare with the 'communication specification' in Figure 1,\n",
        "min_gross_bit_Rate = 100e+3 # [bps]\n",
        "print('Gross_bit_rate > min_gross_bit_Rate: ', Gross_bit_rate > min_gross_bit_Rate)\n",
        "\n",
        "# and\n",
        "Eb_over_N0 = ES_over_N0"
      ],
      "metadata": {
        "colab": {
          "base_uri": "https://localhost:8080/"
        },
        "id": "o9Js8AgI83kN",
        "outputId": "c024aa15-e8cb-476d-f2ca-5ae078431a3a"
      },
      "execution_count": null,
      "outputs": [
        {
          "output_type": "stream",
          "name": "stdout",
          "text": [
            "82.7392 [Mbps]\n",
            "Gross_bit_rate > min_gross_bit_Rate:  True\n"
          ]
        }
      ]
    },
    {
      "cell_type": "markdown",
      "source": [
        "####BER\n",
        "\n",
        "reference:\n",
        "\n",
        "[1] Q-functions:\n",
        "\n",
        "[1.1] Cyclic Bit Loading for Adaptive OFDM in\n",
        "Narrowband Power Line Communications, Cornelius Kaiser, Norbert Mitschke and Klaus Dostert\n",
        "\n",
        "[1.2] https://docs.scipy.org/doc/scipy-0.16.1/reference/generated/scipy.stats.norm.html"
      ],
      "metadata": {
        "id": "14i3NApPC1Li"
      }
    },
    {
      "cell_type": "code",
      "source": [
        "def Q(x):\n",
        "  return np.exp(-x**2/2)\n",
        "\n",
        "# Caluclate the BER: Q(sqrt(2*(Eb/N0)))\n",
        "inf = 30\n",
        "BER= integrate.quad(Q, 2*Eb_over_N0, inf) * 1/(np.sqrt(2*np.pi))\n",
        "\n",
        "print(BER[0])"
      ],
      "metadata": {
        "colab": {
          "base_uri": "https://localhost:8080/"
        },
        "id": "GRf6SlXb9n_V",
        "outputId": "aa27c87b-4f48-473a-c37a-794a10a37fb2"
      },
      "execution_count": null,
      "outputs": [
        {
          "output_type": "stream",
          "name": "stdout",
          "text": [
            "0.02245478585446027\n"
          ]
        }
      ]
    },
    {
      "cell_type": "code",
      "source": [
        "# Such a BER makes the system unusable, especially in an environment\n",
        "# where the communication can be crucial for safety"
      ],
      "metadata": {
        "id": "ba-GNdVfLS6i"
      },
      "execution_count": null,
      "outputs": []
    },
    {
      "cell_type": "code",
      "source": [
        "# To summarize, it could be confirmed that 'Suggested parameters' in Figure 1\n",
        "# is suitable for OFDM radar. The parametrization also allows for communication,\n",
        "# but reliable data transmission is only possible if additional\n",
        "# mechanisms, such as encoding, are in place."
      ],
      "metadata": {
        "id": "txfl66wkLX1r"
      },
      "execution_count": null,
      "outputs": []
    }
  ]
}